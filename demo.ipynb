{
 "cells": [
  {
   "cell_type": "markdown",
   "metadata": {},
   "source": [
    "# Demo for VirtualCity\n",
    "##### This is a demo of how to interact with VirtualCity. The demo will walk though how to start an environment and control it, how to prepare it to perform activities and finally how to perform activities in them."
   ]
  },
  {
   "cell_type": "markdown",
   "metadata": {},
   "source": [
    "## Setup\n",
    "##### The first step is to start a communication with the simulator. Make sure before you run this notebook, that you have downloaded the correct version of the environment for your OS and your drivers and OS is updated to the latest version."
   ]
  },
  {
   "cell_type": "markdown",
   "metadata": {},
   "source": [
    "##### Install required packages"
   ]
  },
  {
   "cell_type": "code",
   "execution_count": 1,
   "metadata": {},
   "outputs": [
    {
     "name": "stdout",
     "output_type": "stream",
     "text": [
      "Collecting virtualcity\n",
      "  Using cached virtualcity-0.0.5-py3-none-any.whl.metadata (3.4 kB)\n",
      "Requirement already satisfied: numpy in c:\\users\\araina\\documents\\sony\\mit\\virtualcity\\environment\\.venv\\lib\\site-packages (from virtualcity) (2.1.0)\n",
      "Requirement already satisfied: gym in c:\\users\\araina\\documents\\sony\\mit\\virtualcity\\environment\\.venv\\lib\\site-packages (from virtualcity) (0.26.2)\n",
      "Collecting ray (from virtualcity)\n",
      "  Using cached ray-2.34.0-cp310-cp310-win_amd64.whl.metadata (14 kB)\n",
      "Requirement already satisfied: tensorboardX in c:\\users\\araina\\documents\\sony\\mit\\virtualcity\\environment\\.venv\\lib\\site-packages (from virtualcity) (2.6.2.2)\n",
      "Collecting wandb (from virtualcity)\n",
      "  Using cached wandb-0.17.7-py3-none-win_amd64.whl.metadata (10 kB)\n",
      "Collecting stable-baselines3 (from virtualcity)\n",
      "  Using cached stable_baselines3-2.3.2-py3-none-any.whl.metadata (5.1 kB)\n",
      "Requirement already satisfied: python-socketio in c:\\users\\araina\\documents\\sony\\mit\\virtualcity\\environment\\.venv\\lib\\site-packages (from virtualcity) (5.11.3)\n",
      "Requirement already satisfied: cloudpickle>=1.2.0 in c:\\users\\araina\\documents\\sony\\mit\\virtualcity\\environment\\.venv\\lib\\site-packages (from gym->virtualcity) (3.0.0)\n",
      "Requirement already satisfied: gym-notices>=0.0.4 in c:\\users\\araina\\documents\\sony\\mit\\virtualcity\\environment\\.venv\\lib\\site-packages (from gym->virtualcity) (0.0.8)\n",
      "Requirement already satisfied: bidict>=0.21.0 in c:\\users\\araina\\documents\\sony\\mit\\virtualcity\\environment\\.venv\\lib\\site-packages (from python-socketio->virtualcity) (0.23.1)\n",
      "Requirement already satisfied: python-engineio>=4.8.0 in c:\\users\\araina\\documents\\sony\\mit\\virtualcity\\environment\\.venv\\lib\\site-packages (from python-socketio->virtualcity) (4.9.1)\n",
      "Requirement already satisfied: click>=7.0 in c:\\users\\araina\\documents\\sony\\mit\\virtualcity\\environment\\.venv\\lib\\site-packages (from ray->virtualcity) (8.1.7)\n",
      "Requirement already satisfied: filelock in c:\\users\\araina\\documents\\sony\\mit\\virtualcity\\environment\\.venv\\lib\\site-packages (from ray->virtualcity) (3.15.4)\n",
      "Collecting jsonschema (from ray->virtualcity)\n",
      "  Using cached jsonschema-4.23.0-py3-none-any.whl.metadata (7.9 kB)\n",
      "Requirement already satisfied: msgpack<2.0.0,>=1.0.0 in c:\\users\\araina\\documents\\sony\\mit\\virtualcity\\environment\\.venv\\lib\\site-packages (from ray->virtualcity) (1.0.8)\n",
      "Requirement already satisfied: packaging in c:\\users\\araina\\documents\\sony\\mit\\virtualcity\\environment\\.venv\\lib\\site-packages (from ray->virtualcity) (24.1)\n",
      "Requirement already satisfied: protobuf!=3.19.5,>=3.15.3 in c:\\users\\araina\\documents\\sony\\mit\\virtualcity\\environment\\.venv\\lib\\site-packages (from ray->virtualcity) (5.27.3)\n",
      "Requirement already satisfied: pyyaml in c:\\users\\araina\\documents\\sony\\mit\\virtualcity\\environment\\.venv\\lib\\site-packages (from ray->virtualcity) (6.0.2)\n",
      "Requirement already satisfied: aiosignal in c:\\users\\araina\\documents\\sony\\mit\\virtualcity\\environment\\.venv\\lib\\site-packages (from ray->virtualcity) (1.3.1)\n",
      "Requirement already satisfied: frozenlist in c:\\users\\araina\\documents\\sony\\mit\\virtualcity\\environment\\.venv\\lib\\site-packages (from ray->virtualcity) (1.4.1)\n",
      "Requirement already satisfied: requests in c:\\users\\araina\\documents\\sony\\mit\\virtualcity\\environment\\.venv\\lib\\site-packages (from ray->virtualcity) (2.32.3)\n",
      "Requirement already satisfied: gymnasium<0.30,>=0.28.1 in c:\\users\\araina\\documents\\sony\\mit\\virtualcity\\environment\\.venv\\lib\\site-packages (from stable-baselines3->virtualcity) (0.29.1)\n",
      "Requirement already satisfied: torch>=1.13 in c:\\users\\araina\\documents\\sony\\mit\\virtualcity\\environment\\.venv\\lib\\site-packages (from stable-baselines3->virtualcity) (2.4.0)\n",
      "Requirement already satisfied: pandas in c:\\users\\araina\\documents\\sony\\mit\\virtualcity\\environment\\.venv\\lib\\site-packages (from stable-baselines3->virtualcity) (2.2.2)\n",
      "Collecting matplotlib (from stable-baselines3->virtualcity)\n",
      "  Using cached matplotlib-3.9.2-cp310-cp310-win_amd64.whl.metadata (11 kB)\n",
      "Requirement already satisfied: docker-pycreds>=0.4.0 in c:\\users\\araina\\documents\\sony\\mit\\virtualcity\\environment\\.venv\\lib\\site-packages (from wandb->virtualcity) (0.4.0)\n",
      "Collecting gitpython!=3.1.29,>=1.0.0 (from wandb->virtualcity)\n",
      "  Using cached GitPython-3.1.43-py3-none-any.whl.metadata (13 kB)\n",
      "Requirement already satisfied: platformdirs in c:\\users\\araina\\documents\\sony\\mit\\virtualcity\\environment\\.venv\\lib\\site-packages (from wandb->virtualcity) (4.2.2)\n",
      "Requirement already satisfied: psutil>=5.0.0 in c:\\users\\araina\\documents\\sony\\mit\\virtualcity\\environment\\.venv\\lib\\site-packages (from wandb->virtualcity) (6.0.0)\n",
      "Requirement already satisfied: sentry-sdk>=1.0.0 in c:\\users\\araina\\documents\\sony\\mit\\virtualcity\\environment\\.venv\\lib\\site-packages (from wandb->virtualcity) (2.13.0)\n",
      "Requirement already satisfied: setproctitle in c:\\users\\araina\\documents\\sony\\mit\\virtualcity\\environment\\.venv\\lib\\site-packages (from wandb->virtualcity) (1.3.3)\n",
      "Requirement already satisfied: setuptools in c:\\users\\araina\\documents\\sony\\mit\\virtualcity\\environment\\.venv\\lib\\site-packages (from wandb->virtualcity) (65.5.0)\n",
      "Requirement already satisfied: colorama in c:\\users\\araina\\documents\\sony\\mit\\virtualcity\\environment\\.venv\\lib\\site-packages (from click>=7.0->ray->virtualcity) (0.4.6)\n",
      "Requirement already satisfied: six>=1.4.0 in c:\\users\\araina\\documents\\sony\\mit\\virtualcity\\environment\\.venv\\lib\\site-packages (from docker-pycreds>=0.4.0->wandb->virtualcity) (1.16.0)\n",
      "Requirement already satisfied: gitdb<5,>=4.0.1 in c:\\users\\araina\\documents\\sony\\mit\\virtualcity\\environment\\.venv\\lib\\site-packages (from gitpython!=3.1.29,>=1.0.0->wandb->virtualcity) (4.0.11)\n",
      "Requirement already satisfied: typing-extensions>=4.3.0 in c:\\users\\araina\\documents\\sony\\mit\\virtualcity\\environment\\.venv\\lib\\site-packages (from gymnasium<0.30,>=0.28.1->stable-baselines3->virtualcity) (4.12.2)\n",
      "Requirement already satisfied: farama-notifications>=0.0.1 in c:\\users\\araina\\documents\\sony\\mit\\virtualcity\\environment\\.venv\\lib\\site-packages (from gymnasium<0.30,>=0.28.1->stable-baselines3->virtualcity) (0.0.4)\n",
      "Requirement already satisfied: simple-websocket>=0.10.0 in c:\\users\\araina\\documents\\sony\\mit\\virtualcity\\environment\\.venv\\lib\\site-packages (from python-engineio>=4.8.0->python-socketio->virtualcity) (1.0.0)\n",
      "Requirement already satisfied: charset-normalizer<4,>=2 in c:\\users\\araina\\documents\\sony\\mit\\virtualcity\\environment\\.venv\\lib\\site-packages (from requests->ray->virtualcity) (3.3.2)\n",
      "Requirement already satisfied: idna<4,>=2.5 in c:\\users\\araina\\documents\\sony\\mit\\virtualcity\\environment\\.venv\\lib\\site-packages (from requests->ray->virtualcity) (3.8)\n",
      "Requirement already satisfied: urllib3<3,>=1.21.1 in c:\\users\\araina\\documents\\sony\\mit\\virtualcity\\environment\\.venv\\lib\\site-packages (from requests->ray->virtualcity) (2.2.2)\n",
      "Requirement already satisfied: certifi>=2017.4.17 in c:\\users\\araina\\documents\\sony\\mit\\virtualcity\\environment\\.venv\\lib\\site-packages (from requests->ray->virtualcity) (2024.7.4)\n",
      "Requirement already satisfied: sympy in c:\\users\\araina\\documents\\sony\\mit\\virtualcity\\environment\\.venv\\lib\\site-packages (from torch>=1.13->stable-baselines3->virtualcity) (1.13.2)\n",
      "Requirement already satisfied: networkx in c:\\users\\araina\\documents\\sony\\mit\\virtualcity\\environment\\.venv\\lib\\site-packages (from torch>=1.13->stable-baselines3->virtualcity) (3.3)\n",
      "Requirement already satisfied: jinja2 in c:\\users\\araina\\documents\\sony\\mit\\virtualcity\\environment\\.venv\\lib\\site-packages (from torch>=1.13->stable-baselines3->virtualcity) (3.1.4)\n",
      "Requirement already satisfied: fsspec in c:\\users\\araina\\documents\\sony\\mit\\virtualcity\\environment\\.venv\\lib\\site-packages (from torch>=1.13->stable-baselines3->virtualcity) (2024.6.1)\n",
      "Requirement already satisfied: attrs>=22.2.0 in c:\\users\\araina\\documents\\sony\\mit\\virtualcity\\environment\\.venv\\lib\\site-packages (from jsonschema->ray->virtualcity) (24.2.0)\n",
      "Collecting jsonschema-specifications>=2023.03.6 (from jsonschema->ray->virtualcity)\n",
      "  Using cached jsonschema_specifications-2023.12.1-py3-none-any.whl.metadata (3.0 kB)\n",
      "Requirement already satisfied: referencing>=0.28.4 in c:\\users\\araina\\documents\\sony\\mit\\virtualcity\\environment\\.venv\\lib\\site-packages (from jsonschema->ray->virtualcity) (0.35.1)\n",
      "Requirement already satisfied: rpds-py>=0.7.1 in c:\\users\\araina\\documents\\sony\\mit\\virtualcity\\environment\\.venv\\lib\\site-packages (from jsonschema->ray->virtualcity) (0.20.0)\n",
      "Requirement already satisfied: contourpy>=1.0.1 in c:\\users\\araina\\documents\\sony\\mit\\virtualcity\\environment\\.venv\\lib\\site-packages (from matplotlib->stable-baselines3->virtualcity) (1.2.1)\n",
      "Requirement already satisfied: cycler>=0.10 in c:\\users\\araina\\documents\\sony\\mit\\virtualcity\\environment\\.venv\\lib\\site-packages (from matplotlib->stable-baselines3->virtualcity) (0.12.1)\n",
      "Requirement already satisfied: fonttools>=4.22.0 in c:\\users\\araina\\documents\\sony\\mit\\virtualcity\\environment\\.venv\\lib\\site-packages (from matplotlib->stable-baselines3->virtualcity) (4.53.1)\n",
      "Requirement already satisfied: kiwisolver>=1.3.1 in c:\\users\\araina\\documents\\sony\\mit\\virtualcity\\environment\\.venv\\lib\\site-packages (from matplotlib->stable-baselines3->virtualcity) (1.4.5)\n",
      "Requirement already satisfied: pillow>=8 in c:\\users\\araina\\documents\\sony\\mit\\virtualcity\\environment\\.venv\\lib\\site-packages (from matplotlib->stable-baselines3->virtualcity) (10.4.0)\n",
      "Requirement already satisfied: pyparsing>=2.3.1 in c:\\users\\araina\\documents\\sony\\mit\\virtualcity\\environment\\.venv\\lib\\site-packages (from matplotlib->stable-baselines3->virtualcity) (3.1.2)\n",
      "Requirement already satisfied: python-dateutil>=2.7 in c:\\users\\araina\\documents\\sony\\mit\\virtualcity\\environment\\.venv\\lib\\site-packages (from matplotlib->stable-baselines3->virtualcity) (2.9.0.post0)\n",
      "Requirement already satisfied: pytz>=2020.1 in c:\\users\\araina\\documents\\sony\\mit\\virtualcity\\environment\\.venv\\lib\\site-packages (from pandas->stable-baselines3->virtualcity) (2024.1)\n",
      "Requirement already satisfied: tzdata>=2022.7 in c:\\users\\araina\\documents\\sony\\mit\\virtualcity\\environment\\.venv\\lib\\site-packages (from pandas->stable-baselines3->virtualcity) (2024.1)\n",
      "Requirement already satisfied: smmap<6,>=3.0.1 in c:\\users\\araina\\documents\\sony\\mit\\virtualcity\\environment\\.venv\\lib\\site-packages (from gitdb<5,>=4.0.1->gitpython!=3.1.29,>=1.0.0->wandb->virtualcity) (5.0.1)\n",
      "Requirement already satisfied: wsproto in c:\\users\\araina\\documents\\sony\\mit\\virtualcity\\environment\\.venv\\lib\\site-packages (from simple-websocket>=0.10.0->python-engineio>=4.8.0->python-socketio->virtualcity) (1.2.0)\n",
      "Requirement already satisfied: MarkupSafe>=2.0 in c:\\users\\araina\\documents\\sony\\mit\\virtualcity\\environment\\.venv\\lib\\site-packages (from jinja2->torch>=1.13->stable-baselines3->virtualcity) (2.1.5)\n",
      "Requirement already satisfied: mpmath<1.4,>=1.1.0 in c:\\users\\araina\\documents\\sony\\mit\\virtualcity\\environment\\.venv\\lib\\site-packages (from sympy->torch>=1.13->stable-baselines3->virtualcity) (1.3.0)\n",
      "Requirement already satisfied: h11<1,>=0.9.0 in c:\\users\\araina\\documents\\sony\\mit\\virtualcity\\environment\\.venv\\lib\\site-packages (from wsproto->simple-websocket>=0.10.0->python-engineio>=4.8.0->python-socketio->virtualcity) (0.14.0)\n",
      "Using cached virtualcity-0.0.5-py3-none-any.whl (2.7 kB)\n",
      "Using cached ray-2.34.0-cp310-cp310-win_amd64.whl (24.7 MB)\n",
      "Using cached stable_baselines3-2.3.2-py3-none-any.whl (182 kB)\n",
      "Using cached wandb-0.17.7-py3-none-win_amd64.whl (6.5 MB)\n",
      "Using cached GitPython-3.1.43-py3-none-any.whl (207 kB)\n",
      "Using cached jsonschema-4.23.0-py3-none-any.whl (88 kB)\n",
      "Using cached matplotlib-3.9.2-cp310-cp310-win_amd64.whl (7.8 MB)\n",
      "Using cached jsonschema_specifications-2023.12.1-py3-none-any.whl (18 kB)\n",
      "Installing collected packages: matplotlib, jsonschema-specifications, gitpython, wandb, stable-baselines3, jsonschema, ray, virtualcity\n",
      "Successfully installed gitpython-3.1.43 jsonschema-4.23.0 jsonschema-specifications-2023.12.1 matplotlib-3.9.2 ray-2.34.0 stable-baselines3-2.3.2 virtualcity-0.0.5 wandb-0.17.7\n"
     ]
    }
   ],
   "source": [
    "!pip install virtualcity\n",
    "# !pip install python-socketio\n",
    "# !pip install \"python-socketio[client]\"\n",
    "# !pip install eventlet"
   ]
  },
  {
   "cell_type": "markdown",
   "metadata": {},
   "source": [
    "#### Communication server\n",
    "##### This code is only run once to initialize the server. Run the following server code on a separate process (you can use a tmux server to run the code but avoid running it within the Jupyter Notebook file)"
   ]
  },
  {
   "cell_type": "code",
   "execution_count": 2,
   "metadata": {},
   "outputs": [
    {
     "ename": "OSError",
     "evalue": "[WinError 10048] Only one usage of each socket address (protocol/network address/port) is normally permitted",
     "output_type": "error",
     "traceback": [
      "\u001b[1;31m---------------------------------------------------------------------------\u001b[0m",
      "\u001b[1;31mOSError\u001b[0m                                   Traceback (most recent call last)",
      "Cell \u001b[1;32mIn[2], line 49\u001b[0m\n\u001b[0;32m     46\u001b[0m     sio\u001b[38;5;241m.\u001b[39memit(\u001b[38;5;124m'\u001b[39m\u001b[38;5;124mrender\u001b[39m\u001b[38;5;124m'\u001b[39m, data)\n\u001b[0;32m     48\u001b[0m \u001b[38;5;28;01mif\u001b[39;00m \u001b[38;5;18m__name__\u001b[39m \u001b[38;5;241m==\u001b[39m \u001b[38;5;124m'\u001b[39m\u001b[38;5;124m__main__\u001b[39m\u001b[38;5;124m'\u001b[39m:\n\u001b[1;32m---> 49\u001b[0m     eventlet\u001b[38;5;241m.\u001b[39mwsgi\u001b[38;5;241m.\u001b[39mserver(\u001b[43meventlet\u001b[49m\u001b[38;5;241;43m.\u001b[39;49m\u001b[43mlisten\u001b[49m\u001b[43m(\u001b[49m\u001b[43m(\u001b[49m\u001b[38;5;124;43m'\u001b[39;49m\u001b[38;5;124;43m0.0.0.0\u001b[39;49m\u001b[38;5;124;43m'\u001b[39;49m\u001b[43m,\u001b[49m\u001b[43m \u001b[49m\u001b[38;5;241;43m8000\u001b[39;49m\u001b[43m)\u001b[49m\u001b[43m)\u001b[49m, app)\n",
      "File \u001b[1;32mc:\\Users\\araina\\Documents\\Sony\\mit\\virtualcity\\environment\\.venv\\lib\\site-packages\\eventlet\\convenience.py:78\u001b[0m, in \u001b[0;36mlisten\u001b[1;34m(addr, family, backlog, reuse_addr, reuse_port)\u001b[0m\n\u001b[0;32m     67\u001b[0m         \u001b[38;5;28;01mif\u001b[39;00m support\u001b[38;5;241m.\u001b[39mget_errno(ex) \u001b[38;5;129;01min\u001b[39;00m (\u001b[38;5;241m22\u001b[39m, \u001b[38;5;241m92\u001b[39m):\n\u001b[0;32m     68\u001b[0m             \u001b[38;5;66;03m# A famous platform defines unsupported socket option.\u001b[39;00m\n\u001b[0;32m     69\u001b[0m             \u001b[38;5;66;03m# https://github.com/eventlet/eventlet/issues/380\u001b[39;00m\n\u001b[0;32m     70\u001b[0m             \u001b[38;5;66;03m# https://github.com/eventlet/eventlet/issues/418\u001b[39;00m\n\u001b[0;32m     71\u001b[0m             warnings\u001b[38;5;241m.\u001b[39mwarn(\n\u001b[0;32m     72\u001b[0m \u001b[38;5;250m                \u001b[39m\u001b[38;5;124;03m'''socket.SO_REUSEPORT is defined but not supported.\u001b[39;00m\n\u001b[0;32m     73\u001b[0m \u001b[38;5;124;03m                On Windows: known bug, wontfix.\u001b[39;00m\n\u001b[0;32m     74\u001b[0m \u001b[38;5;124;03m                On other systems: please comment in the issue linked below.\u001b[39;00m\n\u001b[0;32m     75\u001b[0m \u001b[38;5;124;03m                More information: https://github.com/eventlet/eventlet/issues/380'''\u001b[39;00m,\n\u001b[0;32m     76\u001b[0m                 ReusePortUnavailableWarning, stacklevel\u001b[38;5;241m=\u001b[39m\u001b[38;5;241m3\u001b[39m)\n\u001b[1;32m---> 78\u001b[0m \u001b[43msock\u001b[49m\u001b[38;5;241;43m.\u001b[39;49m\u001b[43mbind\u001b[49m\u001b[43m(\u001b[49m\u001b[43maddr\u001b[49m\u001b[43m)\u001b[49m\n\u001b[0;32m     79\u001b[0m sock\u001b[38;5;241m.\u001b[39mlisten(backlog)\n\u001b[0;32m     80\u001b[0m \u001b[38;5;28;01mreturn\u001b[39;00m sock\n",
      "\u001b[1;31mOSError\u001b[0m: [WinError 10048] Only one usage of each socket address (protocol/network address/port) is normally permitted"
     ]
    }
   ],
   "source": [
    "import socketio\n",
    "import eventlet\n",
    "\n",
    "sio = socketio.Server()\n",
    "app = socketio.WSGIApp(sio)\n",
    "\n",
    "clients = []\n",
    "\n",
    "@sio.event\n",
    "def connect(sid, environ):\n",
    "    print('Client connected:', sid)\n",
    "    clients.append(sid)\n",
    "\n",
    "@sio.event\n",
    "def disconnect(sid):\n",
    "    print('Client disconnected:', sid)\n",
    "    if sid in clients:\n",
    "        clients.remove(sid)\n",
    "\n",
    "@sio.event\n",
    "def debug(sid, data):\n",
    "    sio.emit('message', data)\n",
    "\n",
    "@sio.event\n",
    "def make(sid, data):\n",
    "    sio.emit('make', data)\n",
    "\n",
    "@sio.event\n",
    "def reset(sid, data):\n",
    "    sio.emit('reset', data)\n",
    "\n",
    "@sio.event\n",
    "def observation(sid, data):\n",
    "    sio.emit('observation', data)\n",
    "\n",
    "@sio.event\n",
    "def set_action(sid, data):\n",
    "    sio.emit('set_action', data)\n",
    "\n",
    "@sio.event\n",
    "def system_agent(sid, data):\n",
    "    sio.emit('system_agent', data)\n",
    "\n",
    "@sio.event\n",
    "def render(sid, data):\n",
    "    sio.emit('render', data)\n",
    "\n",
    "if __name__ == '__main__':\n",
    "    eventlet.wsgi.server(eventlet.listen(('0.0.0.0', 8000)), app)"
   ]
  },
  {
   "cell_type": "markdown",
   "metadata": {},
   "source": [
    "##### This code intializes the client communcation. It allows you to send commands to the server that you previously setup, which acts as a bridge between the executable file and the jupyter notebook. Run the following code to intialize the client communication with the environment"
   ]
  },
  {
   "cell_type": "code",
   "execution_count": 2,
   "metadata": {},
   "outputs": [
    {
     "name": "stdout",
     "output_type": "stream",
     "text": [
      "Connected to server\n"
     ]
    }
   ],
   "source": [
    "import socketio\n",
    "\n",
    "sio = socketio.Client()\n",
    "\n",
    "@sio.event\n",
    "def connect():\n",
    "    print(\"Connected to server\")\n",
    "\n",
    "@sio.event\n",
    "def disconnect():\n",
    "    print(\"Disconnected from server\")\n",
    "\n",
    "@sio.event\n",
    "def message(data):\n",
    "    print(\"Message from server:\", data)\n",
    "\n",
    "def make(data):\n",
    "    sio.emit('make', data)\n",
    "\n",
    "def reset(data):\n",
    "    sio.emit('reset', data)\n",
    "\n",
    "def observation(data):\n",
    "    sio.emit('observation', data)\n",
    "\n",
    "def set_action(data):\n",
    "    sio.emit('set_action', data)\n",
    "\n",
    "def system_agent(data):\n",
    "    sio.emit('system_agent', data)\n",
    "\n",
    "def render(data):\n",
    "    sio.emit('render', data)\n",
    "\n",
    "sio.connect('http://localhost:8081')"
   ]
  },
  {
   "cell_type": "markdown",
   "metadata": {},
   "source": [
    "### Import packages\n",
    "##### Before sending commands to the environment, you can import the utils package with provides additional interactive functionality with the environment"
   ]
  },
  {
   "cell_type": "code",
   "execution_count": 3,
   "metadata": {},
   "outputs": [
    {
     "ename": "ModuleNotFoundError",
     "evalue": "No module named 'virtualcity.communication'",
     "output_type": "error",
     "traceback": [
      "\u001b[1;31m---------------------------------------------------------------------------\u001b[0m",
      "\u001b[1;31mModuleNotFoundError\u001b[0m                       Traceback (most recent call last)",
      "Cell \u001b[1;32mIn[3], line 1\u001b[0m\n\u001b[1;32m----> 1\u001b[0m \u001b[38;5;28;01mimport\u001b[39;00m \u001b[38;5;21;01mvirtualcity\u001b[39;00m\n\u001b[0;32m      2\u001b[0m \u001b[38;5;28;01mimport\u001b[39;00m \u001b[38;5;21;01mutils\u001b[39;00m\n",
      "File \u001b[1;32mc:\\Users\\araina\\Documents\\Sony\\mit\\virtualcity\\environment\\.venv\\lib\\site-packages\\virtualcity\\__init__.py:1\u001b[0m\n\u001b[1;32m----> 1\u001b[0m \u001b[38;5;28;01mfrom\u001b[39;00m \u001b[38;5;21;01mvirtualcity\u001b[39;00m\u001b[38;5;21;01m.\u001b[39;00m\u001b[38;5;21;01mcommunication\u001b[39;00m \u001b[38;5;28;01mimport\u001b[39;00m server\n\u001b[0;32m      2\u001b[0m \u001b[38;5;28;01mfrom\u001b[39;00m \u001b[38;5;21;01mvirtualcity\u001b[39;00m\u001b[38;5;21;01m.\u001b[39;00m\u001b[38;5;21;01mrl\u001b[39;00m \u001b[38;5;28;01mimport\u001b[39;00m env\n",
      "\u001b[1;31mModuleNotFoundError\u001b[0m: No module named 'virtualcity.communication'"
     ]
    }
   ],
   "source": [
    "\n",
    "import virtualcity\n",
    "import utils"
   ]
  },
  {
   "cell_type": "markdown",
   "metadata": {},
   "source": [
    "## Sending commands to the environment\n",
    "##### When you want to start a environment or send a instruction to an agent, etc. You will need to pack the configuration in a dictionary and use the emit function to send the command to the environment. If the command was succesfully executed in the environment, you will recieve a message: {success: True} and if it failed then you will recieve a message: {success: False}. "
   ]
  },
  {
   "cell_type": "markdown",
   "metadata": {},
   "source": [
    "### Make a environment\n",
    "##### To start a environment, you need to provide the environment name that you want to initialize. You can select from various pre-built environments or use the \"Procedural Generation\" argument with a seed to create or recreate a previously generated environment on the fly."
   ]
  },
  {
   "cell_type": "code",
   "execution_count": 4,
   "metadata": {},
   "outputs": [],
   "source": [
    "\"\"\"\n",
    "Args:\n",
    "    environment (str): The name of the environment. Default is 'Demo'.\n",
    "    num_env (list): The number of environments. Default is [1].\n",
    "\"\"\"\n",
    "data = {\n",
    "    \"environment\": \"KswainEscapeRoom3\", \n",
    "    # \"num_env\": [1]\n",
    "}\n",
    "\n",
    "make(data)"
   ]
  },
  {
   "cell_type": "markdown",
   "metadata": {},
   "source": [
    "### Reset the environment\n",
    "##### To reset a environment, you can choose to provide a environment graph to reset it to a previosly saved state. If no graph is provided, then the environment is reset to its default state. "
   ]
  },
  {
   "cell_type": "code",
   "execution_count": 5,
   "metadata": {},
   "outputs": [
    {
     "ename": "FileNotFoundError",
     "evalue": "[Errno 2] No such file or directory: 'graph.json'",
     "output_type": "error",
     "traceback": [
      "\u001b[1;31m---------------------------------------------------------------------------\u001b[0m",
      "\u001b[1;31mFileNotFoundError\u001b[0m                         Traceback (most recent call last)",
      "Cell \u001b[1;32mIn[5], line 8\u001b[0m\n\u001b[0;32m      1\u001b[0m \u001b[38;5;124;03m\"\"\"\u001b[39;00m\n\u001b[0;32m      2\u001b[0m \u001b[38;5;124;03mArgs:\u001b[39;00m\n\u001b[0;32m      3\u001b[0m \u001b[38;5;124;03m    env_index (list): The index of the environment. Default is [0].\u001b[39;00m\n\u001b[0;32m      4\u001b[0m \u001b[38;5;124;03m    graph (dict): The environment graph in JSON. Default is None.\u001b[39;00m\n\u001b[0;32m      5\u001b[0m \u001b[38;5;124;03m\"\"\"\u001b[39;00m\n\u001b[0;32m      6\u001b[0m \u001b[38;5;28;01mimport\u001b[39;00m \u001b[38;5;21;01mjson\u001b[39;00m\n\u001b[1;32m----> 8\u001b[0m \u001b[38;5;28;01mwith\u001b[39;00m \u001b[38;5;28;43mopen\u001b[39;49m\u001b[43m(\u001b[49m\u001b[38;5;124;43m\"\u001b[39;49m\u001b[38;5;124;43mgraph.json\u001b[39;49m\u001b[38;5;124;43m\"\u001b[39;49m\u001b[43m,\u001b[49m\u001b[43m \u001b[49m\u001b[38;5;124;43m\"\u001b[39;49m\u001b[38;5;124;43mr\u001b[39;49m\u001b[38;5;124;43m\"\u001b[39;49m\u001b[43m)\u001b[49m \u001b[38;5;28;01mas\u001b[39;00m f:\n\u001b[0;32m      9\u001b[0m     graph \u001b[38;5;241m=\u001b[39m json\u001b[38;5;241m.\u001b[39mload(f)\n\u001b[0;32m     11\u001b[0m data \u001b[38;5;241m=\u001b[39m {\n\u001b[0;32m     12\u001b[0m     \u001b[38;5;124m\"\u001b[39m\u001b[38;5;124menv_index\u001b[39m\u001b[38;5;124m\"\u001b[39m: [\u001b[38;5;241m0\u001b[39m], \n\u001b[0;32m     13\u001b[0m     \u001b[38;5;124m\"\u001b[39m\u001b[38;5;124mgraph\u001b[39m\u001b[38;5;124m\"\u001b[39m: graph\n\u001b[0;32m     14\u001b[0m }\n",
      "File \u001b[1;32mc:\\Users\\araina\\Documents\\Sony\\mit\\virtualcity\\environment\\.venv\\lib\\site-packages\\IPython\\core\\interactiveshell.py:324\u001b[0m, in \u001b[0;36m_modified_open\u001b[1;34m(file, *args, **kwargs)\u001b[0m\n\u001b[0;32m    317\u001b[0m \u001b[38;5;28;01mif\u001b[39;00m file \u001b[38;5;129;01min\u001b[39;00m {\u001b[38;5;241m0\u001b[39m, \u001b[38;5;241m1\u001b[39m, \u001b[38;5;241m2\u001b[39m}:\n\u001b[0;32m    318\u001b[0m     \u001b[38;5;28;01mraise\u001b[39;00m \u001b[38;5;167;01mValueError\u001b[39;00m(\n\u001b[0;32m    319\u001b[0m         \u001b[38;5;124mf\u001b[39m\u001b[38;5;124m\"\u001b[39m\u001b[38;5;124mIPython won\u001b[39m\u001b[38;5;124m'\u001b[39m\u001b[38;5;124mt let you open fd=\u001b[39m\u001b[38;5;132;01m{\u001b[39;00mfile\u001b[38;5;132;01m}\u001b[39;00m\u001b[38;5;124m by default \u001b[39m\u001b[38;5;124m\"\u001b[39m\n\u001b[0;32m    320\u001b[0m         \u001b[38;5;124m\"\u001b[39m\u001b[38;5;124mas it is likely to crash IPython. If you know what you are doing, \u001b[39m\u001b[38;5;124m\"\u001b[39m\n\u001b[0;32m    321\u001b[0m         \u001b[38;5;124m\"\u001b[39m\u001b[38;5;124myou can use builtins\u001b[39m\u001b[38;5;124m'\u001b[39m\u001b[38;5;124m open.\u001b[39m\u001b[38;5;124m\"\u001b[39m\n\u001b[0;32m    322\u001b[0m     )\n\u001b[1;32m--> 324\u001b[0m \u001b[38;5;28;01mreturn\u001b[39;00m io_open(file, \u001b[38;5;241m*\u001b[39margs, \u001b[38;5;241m*\u001b[39m\u001b[38;5;241m*\u001b[39mkwargs)\n",
      "\u001b[1;31mFileNotFoundError\u001b[0m: [Errno 2] No such file or directory: 'graph.json'"
     ]
    }
   ],
   "source": [
    "\"\"\"\n",
    "Args:\n",
    "    env_index (list): The index of the environment. Default is [0].\n",
    "    graph (dict): The environment graph in JSON. Default is None.\n",
    "\"\"\"\n",
    "import json\n",
    "\n",
    "with open(\"graph.json\", \"r\") as f:\n",
    "    graph = json.load(f)\n",
    "\n",
    "data = {\n",
    "    \"env_index\": [0], \n",
    "    \"graph\": graph\n",
    "}\n",
    "\n",
    "reset(data)"
   ]
  },
  {
   "cell_type": "markdown",
   "metadata": {},
   "source": [
    "### Create a graph observation\n",
    "##### You can create a environment graph that describes the entire environment in a JSON file. The graph contains object information, relations, states, etc."
   ]
  },
  {
   "cell_type": "code",
   "execution_count": 6,
   "metadata": {},
   "outputs": [],
   "source": [
    "\"\"\"\n",
    "Args:\n",
    "    type (str): The type of observation. Default is 'graph'.\n",
    "    radius (list): The radius of the observation. Default is [-1].\n",
    "\"\"\"\n",
    "data = {\n",
    "    \"type\": \"graph\", \n",
    "    # \"radius\": [-1]\n",
    "}\n",
    "\n",
    "observation(data)"
   ]
  },
  {
   "cell_type": "markdown",
   "metadata": {},
   "source": [
    "### Set action for an agent\n",
    "##### To send a action command to a agent, you can use provide a list containing the agent index, and a list describing the task which needs to be completed. The task list is structured in the following way: [action, object_1, relation, object_2]. To select a action with the appropriate object and relation, you can refer to the docs."
   ]
  },
  {
   "cell_type": "code",
   "execution_count": 7,
   "metadata": {},
   "outputs": [],
   "source": [
    "\"\"\"\n",
    "Args:\n",
    "    agent_index (list): The index of the agent. Default is [0].\n",
    "    task (list): The task assigned to the agent. Default is [0, 0, 0, 0].\n",
    "    coordinate (list): The coordinate of the agent. Default is [0, 0, 0].\n",
    "\"\"\"\n",
    "data = {\n",
    "    \"agent_index\": [1],\n",
    "    \"task\": [1, 1, 0, 0],\n",
    "    # \"coordinate\": coordinate\n",
    "}\n",
    "\n",
    "set_action(data)"
   ]
  },
  {
   "cell_type": "markdown",
   "metadata": {},
   "source": [
    "##### A more interactive way is to create list of actions in natural language, and run it with the sequence function from the optional utils package. Try to follow a similar syntax as the example provided below when running your own unique scripts."
   ]
  },
  {
   "cell_type": "code",
   "execution_count": 8,
   "metadata": {},
   "outputs": [
    {
     "data": {
      "text/plain": [
       "[{'agent_index': 1, 'task': [0, 1, 0, 0]},\n",
       " {'agent_index': 2, 'task': [2, 2, 0, 0]},\n",
       " {'agent_index': 3, 'task': [6, 3, 1, 4]},\n",
       " {'agent_index': 4, 'task': [0, 5, 0, 0]},\n",
       " {'agent_index': 5, 'task': [0, 6, 2, 7]},\n",
       " {'agent_index': 6, 'task': [3, 8, 0, 9]},\n",
       " {'agent_index': 7, 'task': [6, 10, 1, 11]}]"
      ]
     },
     "execution_count": 8,
     "metadata": {},
     "output_type": "execute_result"
    }
   ],
   "source": [
    "import utils\n",
    "\n",
    "# Sequence\n",
    "action_list = [\n",
    "    \"agent_1 pickup object_1\",\n",
    "    \"agent_2 walk to object_2\",\n",
    "    \"agent_3 place object_4 on object_5\",\n",
    "    \"agent_4 jump over object_6\",\n",
    "    \"agent_5 examine object3 under object_7\",\n",
    "    \"agent_6 run from object_8 to object_9\",\n",
    "    \"agent_7 pick object_10 and place on object_11\",\n",
    "]\n",
    "\n",
    "utils.sequence(action_list)"
   ]
  },
  {
   "cell_type": "markdown",
   "metadata": {},
   "source": [
    "### Change system agent settings\n",
    "##### You can also enable or disable system agents within the environment. Additional settings such as crowd density, vehicle denisity, parked cars, etc. can be changed via the API"
   ]
  },
  {
   "cell_type": "code",
   "execution_count": 9,
   "metadata": {},
   "outputs": [],
   "source": [
    "\"\"\"\n",
    "Args:\n",
    "    crowd (bool): The crowd data. Default is True.\n",
    "    traffic (bool): The traffic data. Default is True.\n",
    "    visualize (bool): Visualize crowd and traffic. Default is False\n",
    "\"\"\"\n",
    "data = {\n",
    "    \"crowd\": True, \n",
    "    \"traffic\": True,\n",
    "    \"visualize\": False,\n",
    "}\n",
    "system_agent(data)"
   ]
  },
  {
   "cell_type": "markdown",
   "metadata": {},
   "source": [
    "### Change rendering settings\n",
    "##### You can also change the rendering settings of the environment in real time such as the camera, resolution, fps, etc. "
   ]
  },
  {
   "cell_type": "code",
   "execution_count": 10,
   "metadata": {},
   "outputs": [],
   "source": [
    "\"\"\"\n",
    "Args:\n",
    "    camera_index (list): The index of the camera. Default is [1].\n",
    "    render_pipeline (str): Which renderer to use. Default is raytracing.\n",
    "    image_width (list): The width of the image. Default is [1920].\n",
    "    image_height (list): The height of the image. Default is [1080].\n",
    "    fps (list): The frames per second. Default is [60].\n",
    "\"\"\"\n",
    "data = {\n",
    "    \"camera_index\": [1],\n",
    "    \"render_pipeline\": 'raytracing',\n",
    "    \"image_width\": [1920],\n",
    "    \"image_height\": [1080],\n",
    "    \"fps\": [60],\n",
    "}\n",
    "\n",
    "render(data)"
   ]
  }
 ],
 "metadata": {
  "kernelspec": {
   "display_name": "Python 3 (ipykernel)",
   "language": "python",
   "name": "python3"
  },
  "language_info": {
   "codemirror_mode": {
    "name": "ipython",
    "version": 3
   },
   "file_extension": ".py",
   "mimetype": "text/x-python",
   "name": "python",
   "nbconvert_exporter": "python",
   "pygments_lexer": "ipython3",
   "version": "3.10.11"
  }
 },
 "nbformat": 4,
 "nbformat_minor": 4
}
