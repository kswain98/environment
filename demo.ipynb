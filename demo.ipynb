{
 "cells": [
  {
   "cell_type": "markdown",
   "metadata": {},
   "source": [
    "# Demo for Environment"
   ]
  },
  {
   "cell_type": "markdown",
   "metadata": {},
   "source": [
    "##### Install required packages"
   ]
  },
  {
   "cell_type": "code",
   "execution_count": null,
   "metadata": {},
   "outputs": [],
   "source": [
    "!pip install python-socketio\n",
    "!pip install python-socketio[client]"
   ]
  },
  {
   "cell_type": "markdown",
   "metadata": {},
   "source": [
    "##### Run the following server code on a separate process"
   ]
  },
  {
   "cell_type": "code",
   "execution_count": null,
   "metadata": {},
   "outputs": [],
   "source": [
    "import socketio\n",
    "import eventlet\n",
    "import threading\n",
    "\n",
    "sio = socketio.Server(cors_allowed_origins=\"*\")\n",
    "app = socketio.WSGIApp(sio)\n",
    "\n",
    "client_sids = []\n",
    "\n",
    "\n",
    "@sio.event\n",
    "def connect(sid, environ):\n",
    "    print(\"Client connected:\", sid)\n",
    "    client_sids.append(sid)\n",
    "\n",
    "\n",
    "@sio.event\n",
    "def disconnect(sid):\n",
    "    print(\"Client disconnected:\", sid)\n",
    "    client_sids.remove(sid)\n",
    "\n",
    "\n",
    "@sio.event\n",
    "def make(sid, data):\n",
    "    print(\"Received make from {}: {}\".format(sid, data))\n",
    "    # Forward the message to all other connected clients (except the sender)\n",
    "    for client_sid in client_sids:\n",
    "        if client_sid != sid:\n",
    "            sio.emit(\"make\", data, room=client_sid)\n",
    "\n",
    "\n",
    "def run_server():\n",
    "    eventlet.wsgi.server(eventlet.listen((\"\", 5000)), app)\n",
    "\n",
    "\n",
    "if __name__ == \"__main__\":\n",
    "    thread = threading.Thread(target=run_server)\n",
    "    thread.start()\n",
    "    print(\"Server is running in background\")"
   ]
  },
  {
   "cell_type": "markdown",
   "metadata": {},
   "source": [
    "##### Run the following code to intialize the client communication with the environment"
   ]
  },
  {
   "cell_type": "code",
   "execution_count": null,
   "metadata": {},
   "outputs": [],
   "source": [
    "import socketio\n",
    "\n",
    "sio = socketio.Client()\n",
    "\n",
    "\n",
    "@sio.event\n",
    "def connect():\n",
    "    print(\"Connected to server\")\n",
    "\n",
    "\n",
    "@sio.event\n",
    "def disconnect():\n",
    "    print(\"Disconnected from the server\")\n",
    "\n",
    "\n",
    "@sio.event\n",
    "def message(data):\n",
    "    print(\"Received message:\", data)\n",
    "\n",
    "\n",
    "sio.connect(\"http://localhost:5000\")"
   ]
  },
  {
   "cell_type": "markdown",
   "metadata": {},
   "source": [
    "##### Make a environment"
   ]
  },
  {
   "cell_type": "code",
   "execution_count": null,
   "metadata": {},
   "outputs": [],
   "source": [
    "# environment='Demo', num_env=[1], num_agent=[1]\n",
    "data = {\"environment\": \"Demo\", \"num_env\": [1]}\n",
    "sio.emit(\"make\", data)"
   ]
  },
  {
   "cell_type": "markdown",
   "metadata": {},
   "source": [
    "##### Reset the environment"
   ]
  },
  {
   "cell_type": "code",
   "execution_count": null,
   "metadata": {},
   "outputs": [],
   "source": [
    "import json\n",
    "\n",
    "with open(\"data.json\", \"r\") as f:\n",
    "    graph = json.load(f)\n",
    "\n",
    "# graph, env_index=[0]\n",
    "data = {\"env_index\": [0], \"graph\": graph}\n",
    "sio.emit(\"reset\", data)"
   ]
  },
  {
   "cell_type": "markdown",
   "metadata": {},
   "source": [
    "##### Create a graph observation"
   ]
  },
  {
   "cell_type": "code",
   "execution_count": null,
   "metadata": {},
   "outputs": [],
   "source": [
    "# obs_type='graph', radius=[-1]\n",
    "data = {\"type\": \"graph\", \"radius\": [-1]}\n",
    "sio.emit(\"observation\", data)"
   ]
  },
  {
   "cell_type": "markdown",
   "metadata": {},
   "source": [
    "##### Set action for an agent"
   ]
  },
  {
   "cell_type": "code",
   "execution_count": null,
   "metadata": {},
   "outputs": [],
   "source": [
    "import utils\n",
    "\n",
    "# (agent_index=[0], task=[0,0,0], coordinate=[0,0,0]\n",
    "data = {\"agent_index\": agent_index, \"task\": task, \"coordinate\": coordinate}\n",
    "sio.emit(\"set_action\", data)"
   ]
  },
  {
   "cell_type": "markdown",
   "metadata": {},
   "source": [
    "##### Change rendering settings"
   ]
  },
  {
   "cell_type": "code",
   "execution_count": null,
   "metadata": {},
   "outputs": [],
   "source": [
    "# camera_index=[0], image_synthesis='raytracing', image_width=[256], image_height=[256], fps=10, visualize=False\n",
    "data = {\n",
    "    \"camera_index\": camera_index,\n",
    "    \"image_synthesis\": image_synthesis,\n",
    "    \"image_width\": image_width,\n",
    "    \"image_height\": image_height,\n",
    "    \"fps\": fps,\n",
    "    \"visualize\": visualize,\n",
    "}\n",
    "sio.emit(\"render\", data)"
   ]
  },
  {
   "cell_type": "markdown",
   "metadata": {},
   "source": [
    "##### Change system agent settings"
   ]
  },
  {
   "cell_type": "code",
   "execution_count": null,
   "metadata": {},
   "outputs": [],
   "source": [
    "# crowd=True, traffic=True\n",
    "data = {\"crowd\": crowd, \"traffic\": traffic}\n",
    "sio.emit(\"system_agent\", data)"
   ]
  }
 ],
 "metadata": {
  "kernelspec": {
   "display_name": "socketio",
   "language": "python",
   "name": "python3"
  },
  "language_info": {
   "codemirror_mode": {
    "name": "ipython",
    "version": 3
   },
   "file_extension": ".py",
   "mimetype": "text/x-python",
   "name": "python",
   "nbconvert_exporter": "python",
   "pygments_lexer": "ipython3",
   "version": "3.11.6"
  }
 },
 "nbformat": 4,
 "nbformat_minor": 2
}
