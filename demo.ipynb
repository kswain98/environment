{
 "cells": [
  {
   "cell_type": "markdown",
   "metadata": {},
   "source": [
    "# Demo for VirtualCity\n",
    "##### This is a demo of how to VirtualCity. The demo will walk though how to start an environment and control it, how to prepare it to perform activities and finally how to perform activities in them."
   ]
  },
  {
   "cell_type": "markdown",
   "metadata": {},
   "source": [
    "## Setup\n",
    "##### The first step is to start a communication with the simulator. Make sure before you run this notebook, that you have downloaded the correct version of the environment for your OS and your drivers and OS is updated to the latest version."
   ]
  },
  {
   "cell_type": "markdown",
   "metadata": {},
   "source": [
    "##### Install required packages"
   ]
  },
  {
   "cell_type": "code",
   "execution_count": null,
   "metadata": {},
   "outputs": [],
   "source": [
    "# !pip install virtualcity\n",
    "!pip install python-socketio\n",
    "!pip install \"python-socketio[client]\"\n",
    "!pip install eventlet"
   ]
  },
  {
   "cell_type": "markdown",
   "metadata": {},
   "source": [
    "#### Communication server\n",
    "##### This code is only run once to initialize the server. Run the following server code on a separate process (you can use tmux to run the server but avoid running it within the Jupyter Notebook file)"
   ]
  },
  {
   "cell_type": "code",
   "execution_count": null,
   "metadata": {},
   "outputs": [],
   "source": [
    "import socketio\n",
    "import eventlet\n",
    "import threading\n",
    "\n",
    "sio = socketio.Server(cors_allowed_origins=\"*\")\n",
    "app = socketio.WSGIApp(sio)\n",
    "\n",
    "client_sids = []\n",
    "\n",
    "\n",
    "@sio.event\n",
    "def connect(sid, environ):\n",
    "    print(\"Client connected:\", sid)\n",
    "    client_sids.append(sid)\n",
    "\n",
    "\n",
    "@sio.event\n",
    "def disconnect(sid):\n",
    "    print(\"Client disconnected:\", sid)\n",
    "    client_sids.remove(sid)\n",
    "\n",
    "\n",
    "@sio.event\n",
    "def make(sid, data):\n",
    "    print(\"Received make from {}: {}\".format(sid, data))\n",
    "    # Forward the message to all other connected clients (except the sender)\n",
    "    for client_sid in client_sids:\n",
    "        if client_sid != sid:\n",
    "            sio.emit(\"make\", data, room=client_sid)\n",
    "\n",
    "\n",
    "def run_server():\n",
    "    eventlet.wsgi.server(eventlet.listen((\"\", 5000)), app)\n",
    "\n",
    "\n",
    "if __name__ == \"__main__\":\n",
    "    thread = threading.Thread(target=run_server)\n",
    "    thread.start()\n",
    "    print(\"Server is running in background\")"
   ]
  },
  {
   "cell_type": "markdown",
   "metadata": {},
   "source": [
    "##### This code intialize the client communcation. It allows you to send commands to the server that you previously setup, which acts as a bridge between the executible file and the jupyter notebook. Run the following code to intialize the client communication with the environment"
   ]
  },
  {
   "cell_type": "code",
   "execution_count": null,
   "metadata": {},
   "outputs": [],
   "source": [
    "import socketio\n",
    "\n",
    "sio = socketio.Client()\n",
    "\n",
    "\n",
    "@sio.event\n",
    "def connect():\n",
    "    print(\"Connected to server\")\n",
    "\n",
    "\n",
    "@sio.event\n",
    "def disconnect():\n",
    "    print(\"Disconnected from the server\")\n",
    "\n",
    "\n",
    "@sio.event\n",
    "def message(data):\n",
    "    print(\"Received message:\", data)\n",
    "\n",
    "\n",
    "sio.connect(\"http://localhost:5000\")"
   ]
  },
  {
   "cell_type": "markdown",
   "metadata": {},
   "source": [
    "### Import packages\n",
    "##### Before sending commands to the environment, you can import the utils package with provides additional interactive functionality with the environment"
   ]
  },
  {
   "cell_type": "code",
   "execution_count": null,
   "metadata": {},
   "outputs": [],
   "source": [
    "\n",
    "# import virtualcity\n",
    "import utils"
   ]
  },
  {
   "cell_type": "markdown",
   "metadata": {},
   "source": [
    "### Sending commands to the environment\n",
    "##### When you want to start a environment or send a instruction to an agent, etc. You will need to pack the configuration in a dictionary and use the emit function to send the command to the environment. If the command was succesfully executed in the environment, you will recieve a message: {success: True} and if it failed then you will recieve a message: {sucess: False}. "
   ]
  },
  {
   "cell_type": "markdown",
   "metadata": {},
   "source": [
    "### Make a environment\n",
    "##### To start a environment, you need to provide the environent name that you want to intialize. You can select from various prebuilt environments or use the \"Procedural Generation\" with a seed to create or recreate a previously generated environment on the fly."
   ]
  },
  {
   "cell_type": "code",
   "execution_count": null,
   "metadata": {},
   "outputs": [],
   "source": [
    "\"\"\"\n",
    "Args:\n",
    "    environment (str): The name of the environment. Default is 'Demo'.\n",
    "    num_env (list): The number of environments. Default is [1].\n",
    "\"\"\"\n",
    "data = {\n",
    "    \"environment\": \"Demo\", \n",
    "    # \"num_env\": [1]\n",
    "}\n",
    "\n",
    "sio.emit(\"make\", data)"
   ]
  },
  {
   "cell_type": "markdown",
   "metadata": {},
   "source": [
    "### Reset the environment\n",
    "##### To reset a environment, you can choose to provide a environment graph to reset it to a previosly saved state. If no graph is provided, then the environment is reset to its default state. "
   ]
  },
  {
   "cell_type": "code",
   "execution_count": null,
   "metadata": {},
   "outputs": [],
   "source": [
    "\"\"\"\n",
    "Args:\n",
    "    env_index (list): The index of the environment. Default is [0].\n",
    "    graph (dict): The environment graph in JSON. Default is None.\n",
    "\"\"\"\n",
    "import json\n",
    "\n",
    "with open(\"graph.json\", \"r\") as f:\n",
    "    graph = json.load(f)\n",
    "\n",
    "data = {\n",
    "    \"env_index\": [0], \n",
    "    \"graph\": graph\n",
    "}\n",
    "\n",
    "sio.emit(\"reset\", data)"
   ]
  },
  {
   "cell_type": "markdown",
   "metadata": {},
   "source": [
    "### Create a graph observation\n",
    "##### You can create a environment graph that describes the entire environment in a JSON file. The graph contains object information, relations, states, etc."
   ]
  },
  {
   "cell_type": "code",
   "execution_count": null,
   "metadata": {},
   "outputs": [],
   "source": [
    "\"\"\"\n",
    "Args:\n",
    "    type (str): The type of observation. Default is 'graph'.\n",
    "    radius (list): The radius of the observation. Default is [-1].\n",
    "\"\"\"\n",
    "data = {\n",
    "    \"type\": \"graph\", \n",
    "    # \"radius\": [-1]\n",
    "}\n",
    "\n",
    "sio.emit(\"observation\", data)"
   ]
  },
  {
   "cell_type": "markdown",
   "metadata": {},
   "source": [
    "### Set action for an agent\n",
    "##### To send a action command to a agent, you can use provide a list containing the agent index, and a list describing the task which needs to be completed. The task list is structured in the following way: [action, object_1, relation, object_2]. To select a action with the appropriate object and relation, you can refer to the docs."
   ]
  },
  {
   "cell_type": "code",
   "execution_count": null,
   "metadata": {},
   "outputs": [],
   "source": [
    "\"\"\"\n",
    "Args:\n",
    "    agent_index (list): The index of the agent. Default is [0].\n",
    "    task (list): The task assigned to the agent. Default is [0, 0, 0, 0].\n",
    "    coordinate (list): The coordinate of the agent. Default is [0, 0, 0].\n",
    "\"\"\"\n",
    "data = {\n",
    "    \"agent_index\": [1],\n",
    "    \"task\": [1, 1, 0, 0],\n",
    "    # \"coordinate\": coordinate\n",
    "}\n",
    "\n",
    "sio.emit(\"set_action\", data)"
   ]
  },
  {
   "cell_type": "markdown",
   "metadata": {},
   "source": [
    "##### A more interactive way is to create list of actions in natural language, and run it with the sequence function from the optional utils package. Try to follow a similar syntax as the example provided below when running your own unique scripts."
   ]
  },
  {
   "cell_type": "code",
   "execution_count": null,
   "metadata": {},
   "outputs": [],
   "source": [
    "import utils\n",
    "\n",
    "# Sequence\n",
    "action_list = [\n",
    "    \"agent_1 pickup object1\",\n",
    "    \"agent_2 walk to object_2\",\n",
    "    \"agent_3 place object_4 on object_5\",\n",
    "    \"agent_4 jump over object_6\",\n",
    "    \"agent_5 examine object3 under object_7\",\n",
    "    \"agent_6 run from object_8 to object_9\",\n",
    "    \"agent_7 pick object_10 and place on object_11\",\n",
    "]\n",
    "\n",
    "utils.sequence(action_list)"
   ]
  },
  {
   "cell_type": "markdown",
   "metadata": {},
   "source": [
    "### Change rendering settings\n",
    "##### You can also change the rendering settings of the environment in real time such as the camera, resolution, fps, etc. "
   ]
  },
  {
   "cell_type": "code",
   "execution_count": null,
   "metadata": {},
   "outputs": [],
   "source": [
    "\"\"\"\n",
    "Args:\n",
    "    camera_index (list): The index of the camera. Default is [1].\n",
    "    image_synthesis (str): Whether to use image synthesis. Default is raytracing.\n",
    "    image_width (list): The width of the image. Default is [1920].\n",
    "    image_height (list): The height of the image. Default is [480].\n",
    "    fps (list): The frames per second. Default is [60].\n",
    "\"\"\"\n",
    "data = {\n",
    "    \"camera_index\": [1],\n",
    "    \"image_synthesis\": 'raytracing',\n",
    "    \"image_width\": [1920],\n",
    "    \"image_height\": [1080],\n",
    "    \"fps\": [60],\n",
    "}\n",
    "\n",
    "sio.emit(\"render\", data)"
   ]
  },
  {
   "cell_type": "markdown",
   "metadata": {},
   "source": [
    "### Change system agent settings\n",
    "##### You can also enable or disable system agents within the environment. Additional settings such as crowd density, vehicle denisity, parked cars, etc. can be changed via the API"
   ]
  },
  {
   "cell_type": "code",
   "execution_count": null,
   "metadata": {},
   "outputs": [],
   "source": [
    "\"\"\"\n",
    "Args:\n",
    "    crowd (bool): The crowd data. Default is True.\n",
    "    traffic (bool): The traffic data. Default is True.\n",
    "    visualize (bool): Visualize crowd and traffic. Default is False\n",
    "\"\"\"\n",
    "data = {\n",
    "    \"crowd\": True, \n",
    "    \"traffic\": True,\n",
    "    \"visualize\": False,\n",
    "}\n",
    "sio.emit(\"system_agent\", data)"
   ]
  }
 ],
 "metadata": {
  "kernelspec": {
   "display_name": "socketio",
   "language": "python",
   "name": "python3"
  },
  "language_info": {
   "codemirror_mode": {
    "name": "ipython",
    "version": 3
   },
   "file_extension": ".py",
   "mimetype": "text/x-python",
   "name": "python",
   "nbconvert_exporter": "python",
   "pygments_lexer": "ipython3",
   "version": "3.10.11"
  }
 },
 "nbformat": 4,
 "nbformat_minor": 2
}
