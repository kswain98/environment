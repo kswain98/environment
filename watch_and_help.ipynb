{
 "cells": [
  {
   "cell_type": "markdown",
   "metadata": {},
   "source": [
    "# Demo for WatchAndHelp Experiment In VirtualEnv\n",
    "##### This is a demo of how to interact with decision making algorithm in WatchAndHelp Experiment In VirtualEnv.\n"
   ]
  },
  {
   "cell_type": "markdown",
   "metadata": {},
   "source": [
    "## Setup\n",
    "##### The first step is to start a communication with the simulator. Make sure before you run this notebook, that you have downloaded the correct version of the environment for your OS and your drivers and OS is updated to the latest version."
   ]
  },
  {
   "cell_type": "code",
   "execution_count": 1,
   "metadata": {},
   "outputs": [
    {
     "name": "stdout",
     "output_type": "stream",
     "text": [
      "Connected to server\n"
     ]
    },
    {
     "name": "stderr",
     "output_type": "stream",
     "text": [
      "e:\\conda\\envs\\vh\\lib\\site-packages\\tqdm\\auto.py:21: TqdmWarning: IProgress not found. Please update jupyter and ipywidgets. See https://ipywidgets.readthedocs.io/en/stable/user_install.html\n",
      "  from .autonotebook import tqdm as notebook_tqdm\n"
     ]
    },
    {
     "name": "stderr",
     "output_type": "stream",
     "text": [
      "Exception in thread Thread-11 (_handle_eio_message):\n",
      "Traceback (most recent call last):\n",
      "  File \"e:\\conda\\envs\\vh\\lib\\threading.py\", line 1016, in _bootstrap_inner\n",
      "    self.run()\n",
      "  File \"e:\\conda\\envs\\vh\\lib\\site-packages\\ipykernel\\ipkernel.py\", line 766, in run_closure\n",
      "    _threading_Thread_run(self)\n",
      "  File \"e:\\conda\\envs\\vh\\lib\\threading.py\", line 953, in run\n",
      "    self._target(*self._args, **self._kwargs)\n",
      "  File \"e:\\conda\\envs\\vh\\lib\\site-packages\\socketio\\client.py\", line 512, in _handle_eio_message\n",
      "    self._handle_event(pkt.namespace, pkt.id, pkt.data)\n",
      "  File \"e:\\conda\\envs\\vh\\lib\\site-packages\\socketio\\client.py\", line 386, in _handle_event\n",
      "    r = self._trigger_event(data[0], namespace, *data[1:])\n",
      "  File \"e:\\conda\\envs\\vh\\lib\\site-packages\\socketio\\client.py\", line 434, in _trigger_event\n",
      "    return handler(*args)\n",
      "  File \"e:\\environment\\client.py\", line 20, in message\n",
      "    message = json.load(f)\n",
      "  File \"e:\\conda\\envs\\vh\\lib\\json\\__init__.py\", line 293, in load\n",
      "    return loads(fp.read(),\n",
      "  File \"e:\\conda\\envs\\vh\\lib\\json\\__init__.py\", line 346, in loads\n",
      "    return _default_decoder.decode(s)\n",
      "  File \"e:\\conda\\envs\\vh\\lib\\json\\decoder.py\", line 337, in decode\n",
      "    obj, end = self.raw_decode(s, idx=_w(s, 0).end())\n",
      "  File \"e:\\conda\\envs\\vh\\lib\\json\\decoder.py\", line 355, in raw_decode\n",
      "    raise JSONDecodeError(\"Expecting value\", s, err.value) from None\n",
      "json.decoder.JSONDecodeError: Expecting value: line 1 column 1 (char 0)\n"
     ]
    }
   ],
   "source": [
    "from watch_and_help import *\n",
    "from client import *\n",
    "data = {\"environment\": \"WatchAndHelp1\"}\n",
    "make(data)"
   ]
  },
  {
   "cell_type": "markdown",
   "metadata": {},
   "source": [
    "## 1. Random Agent\n"
   ]
  },
  {
   "cell_type": "code",
   "execution_count": null,
   "metadata": {},
   "outputs": [
    {
     "name": "stdout",
     "output_type": "stream",
     "text": [
      "Goal: ('mlik', 'on', 'table')\n",
      "Available objects: ['BP_SideTable2', 'Floor_400x548', 'Floor_400x549', 'Floor_400x493', 'BP_ThirdPersonCharacter0', 'Floor_400x547', 'BP_Table1', 'Floor_400x546', 'BP_Table2', 'SM_TableDining13', 'BP_SideTable1']\n",
      "Warning: Required object 'mlik' not found in environment!\n",
      "Available objects: {'bp_sidetable1', 'bp_sidetable2', 'floor_400x549', 'floor_400x493', 'floor_400x548', 'bp_table1', 'bp_thirdpersoncharacter0', 'floor_400x546', 'floor_400x547', 'sm_tabledining13', 'bp_table2'}\n"
     ]
    }
   ],
   "source": [
    "## 1. Random Agent\n",
    "\n",
    "goal_spec = {\n",
    "    # Format: (subject, relation_type, target): count_needed\n",
    "    #('apple', 'on', 'table'): 1,\n",
    "    ('milk', 'on', 'table'): 1,\n",
    "}\n",
    "env_name = 'WatchAndHelp1'\n",
    "\n",
    "agent = Random_agent(agent_id=0, char_index=0, max_episode_length=100, num_simulation=1000, max_rollout_steps=5, c_init=1.25, c_base=19652, recursive=False, num_samples=1, num_processes=1, comm=None, logging=False, logging_graphs=False, seed=None, env_name=env_name)\n",
    "graph = agent.load_graph_json()\n",
    "filtered_graph = clean_graph(graph, goal_spec, None)\n",
    "#print(\"Filtered graph nodes:\", [node['name'] for node in filtered_graph])\n",
    "for goal_tuple in goal_spec.keys():\n",
    "    print(f\"Goal: {goal_tuple}\")\n",
    "    # Create a single-goal specification dictionary\n",
    "    single_goal_spec = {goal_tuple: goal_spec[goal_tuple]}\n",
    "    agent.run(single_goal_spec)\n"
   ]
  },
  {
   "cell_type": "markdown",
   "metadata": {},
   "source": [
    "## 2. Oracle Algorithm"
   ]
  },
  {
   "cell_type": "code",
   "execution_count": 2,
   "metadata": {},
   "outputs": [
    {
     "name": "stderr",
     "output_type": "stream",
     "text": [
      "\u001b[34m\u001b[1mwandb\u001b[0m: Using wandb-core as the SDK backend.  Please refer to https://wandb.me/wandb-core for more information.\n",
      "\u001b[34m\u001b[1mwandb\u001b[0m: Currently logged in as: \u001b[33msijiehan\u001b[0m (\u001b[33msijiehan-university-of-toronto\u001b[0m). Use \u001b[1m`wandb login --relogin`\u001b[0m to force relogin\n"
     ]
    },
    {
     "data": {
      "text/html": [
       "Tracking run with wandb version 0.18.6"
      ],
      "text/plain": [
       "<IPython.core.display.HTML object>"
      ]
     },
     "metadata": {},
     "output_type": "display_data"
    },
    {
     "data": {
      "text/html": [
       "Run data is saved locally in <code>e:\\environment\\wandb\\run-20241201_151733-5povqnj4</code>"
      ],
      "text/plain": [
       "<IPython.core.display.HTML object>"
      ]
     },
     "metadata": {},
     "output_type": "display_data"
    },
    {
     "data": {
      "text/html": [
       "Syncing run <strong><a href='https://wandb.ai/sijiehan-university-of-toronto/oracle-planning/runs/5povqnj4' target=\"_blank\">main-execution</a></strong> to <a href='https://wandb.ai/sijiehan-university-of-toronto/oracle-planning' target=\"_blank\">Weights & Biases</a> (<a href='https://wandb.me/developer-guide' target=\"_blank\">docs</a>)<br/>"
      ],
      "text/plain": [
       "<IPython.core.display.HTML object>"
      ]
     },
     "metadata": {},
     "output_type": "display_data"
    },
    {
     "data": {
      "text/html": [
       " View project at <a href='https://wandb.ai/sijiehan-university-of-toronto/oracle-planning' target=\"_blank\">https://wandb.ai/sijiehan-university-of-toronto/oracle-planning</a>"
      ],
      "text/plain": [
       "<IPython.core.display.HTML object>"
      ]
     },
     "metadata": {},
     "output_type": "display_data"
    },
    {
     "data": {
      "text/html": [
       " View run at <a href='https://wandb.ai/sijiehan-university-of-toronto/oracle-planning/runs/5povqnj4' target=\"_blank\">https://wandb.ai/sijiehan-university-of-toronto/oracle-planning/runs/5povqnj4</a>"
      ],
      "text/plain": [
       "<IPython.core.display.HTML object>"
      ]
     },
     "metadata": {},
     "output_type": "display_data"
    },
    {
     "name": "stdout",
     "output_type": "stream",
     "text": [
      "\n",
      "Executing goal 1/1: ('milk', 'on', 'table')\n",
      "Executing action 1/2: {'agent_index': [0], 'task': [1, 232, 0, 0]}\n",
      "Executing action 2/2: {'agent_index': [0], 'task': [6, 232, 0, 0]}\n",
      "Executing action 1/2: {'agent_index': [0], 'task': [1, 232, 0, 0]}\n",
      "Executing action 2/2: {'agent_index': [0], 'task': [6, 232, 0, 0]}\n",
      "Executing action 1/2: {'agent_index': [0], 'task': [1, 232, 0, 0]}\n",
      "Executing action 2/2: {'agent_index': [0], 'task': [6, 232, 0, 0]}\n",
      "Executing action 1/2: {'agent_index': [0], 'task': [1, 232, 0, 0]}\n",
      "Executing action 2/2: {'agent_index': [0], 'task': [6, 232, 0, 0]}\n",
      "Executing action 1/2: {'agent_index': [0], 'task': [1, 232, 0, 0]}\n",
      "Executing action 2/2: {'agent_index': [0], 'task': [6, 232, 0, 0]}\n",
      "Executing action 1/2: {'agent_index': [0], 'task': [1, 232, 0, 0]}\n",
      "Executing action 2/2: {'agent_index': [0], 'task': [6, 232, 0, 0]}\n",
      "Executing action 1/2: {'agent_index': [0], 'task': [1, 232, 0, 0]}\n",
      "Executing action 2/2: {'agent_index': [0], 'task': [6, 232, 0, 0]}\n",
      "Executing action 1/2: {'agent_index': [0], 'task': [1, 232, 0, 0]}\n",
      "Executing action 2/2: {'agent_index': [0], 'task': [6, 232, 0, 0]}\n",
      "Executing action 1/2: {'agent_index': [0], 'task': [1, 232, 0, 0]}\n",
      "Executing action 2/2: {'agent_index': [0], 'task': [6, 232, 0, 0]}\n",
      "Executing action 1/2: {'agent_index': [0], 'task': [1, 232, 0, 0]}\n",
      "Executing action 2/2: {'agent_index': [0], 'task': [6, 232, 0, 0]}\n",
      "Executing action 1/2: {'agent_index': [0], 'task': [1, 232, 0, 0]}\n",
      "Executing action 2/2: {'agent_index': [0], 'task': [6, 232, 0, 0]}\n",
      "Executing action 1/2: {'agent_index': [0], 'task': [1, 232, 0, 0]}\n",
      "Executing action 2/2: {'agent_index': [0], 'task': [6, 232, 0, 0]}\n",
      "Executing action 1/2: {'agent_index': [0], 'task': [1, 232, 0, 0]}\n",
      "Executing action 2/2: {'agent_index': [0], 'task': [6, 232, 0, 0]}\n",
      "Executing action 1/2: {'agent_index': [0], 'task': [1, 232, 0, 0]}\n",
      "Executing action 2/2: {'agent_index': [0], 'task': [6, 232, 0, 0]}\n",
      "Executing action 1/2: {'agent_index': [0], 'task': [1, 232, 0, 0]}\n",
      "Executing action 2/2: {'agent_index': [0], 'task': [6, 232, 0, 0]}\n",
      "Executing action 1/2: {'agent_index': [0], 'task': [1, 232, 0, 0]}\n",
      "Executing action 2/2: {'agent_index': [0], 'task': [6, 232, 0, 0]}\n",
      "Executing action 1/2: {'agent_index': [0], 'task': [1, 232, 0, 0]}\n",
      "Executing action 2/2: {'agent_index': [0], 'task': [6, 232, 0, 0]}\n",
      "Executing action 1/2: {'agent_index': [0], 'task': [1, 232, 0, 0]}\n",
      "Executing action 2/2: {'agent_index': [0], 'task': [6, 232, 0, 0]}\n",
      "Executing action 1/2: {'agent_index': [0], 'task': [1, 232, 0, 0]}\n",
      "Executing action 2/2: {'agent_index': [0], 'task': [6, 232, 0, 0]}\n",
      "Executing action 1/2: {'agent_index': [0], 'task': [1, 232, 0, 0]}\n",
      "Executing action 2/2: {'agent_index': [0], 'task': [6, 232, 0, 0]}\n",
      "Executing action 1/2: {'agent_index': [0], 'task': [1, 232, 0, 0]}\n",
      "Executing action 2/2: {'agent_index': [0], 'task': [6, 232, 0, 0]}\n",
      "Executing action 1/2: {'agent_index': [0], 'task': [1, 232, 0, 0]}\n",
      "Executing action 2/2: {'agent_index': [0], 'task': [6, 232, 0, 0]}\n",
      "Executing action 1/2: {'agent_index': [0], 'task': [1, 232, 0, 0]}\n",
      "Executing action 2/2: {'agent_index': [0], 'task': [6, 232, 0, 0]}\n",
      "Executing action 1/2: {'agent_index': [0], 'task': [1, 232, 0, 0]}\n",
      "Executing action 2/2: {'agent_index': [0], 'task': [6, 232, 0, 0]}\n",
      "Executing action 1/2: {'agent_index': [0], 'task': [1, 232, 0, 0]}\n",
      "Executing action 2/2: {'agent_index': [0], 'task': [6, 232, 0, 0]}\n",
      "Executing action 1/2: {'agent_index': [0], 'task': [1, 232, 0, 0]}\n",
      "Executing action 2/2: {'agent_index': [0], 'task': [6, 232, 0, 0]}\n",
      "Executing action 1/2: {'agent_index': [0], 'task': [1, 232, 0, 0]}\n",
      "Executing action 2/2: {'agent_index': [0], 'task': [6, 232, 0, 0]}\n",
      "Executing action 1/2: {'agent_index': [0], 'task': [1, 232, 0, 0]}\n",
      "Executing action 2/2: {'agent_index': [0], 'task': [6, 232, 0, 0]}\n",
      "Executing action 1/2: {'agent_index': [0], 'task': [1, 232, 0, 0]}\n",
      "Executing action 2/2: {'agent_index': [0], 'task': [6, 232, 0, 0]}\n",
      "Executing action 1/2: {'agent_index': [0], 'task': [1, 232, 0, 0]}\n",
      "Executing action 2/2: {'agent_index': [0], 'task': [6, 232, 0, 0]}\n",
      "Executing action 1/2: {'agent_index': [0], 'task': [1, 232, 0, 0]}\n",
      "Executing action 2/2: {'agent_index': [0], 'task': [6, 232, 0, 0]}\n",
      "Executing action 1/2: {'agent_index': [0], 'task': [1, 232, 0, 0]}\n",
      "Executing action 2/2: {'agent_index': [0], 'task': [6, 232, 0, 0]}\n",
      "Executing action 1/2: {'agent_index': [0], 'task': [1, 232, 0, 0]}\n",
      "Executing action 2/2: {'agent_index': [0], 'task': [6, 232, 0, 0]}\n",
      "Executing action 1/2: {'agent_index': [0], 'task': [1, 232, 0, 0]}\n",
      "Executing action 2/2: {'agent_index': [0], 'task': [6, 232, 0, 0]}\n",
      "Executing action 1/2: {'agent_index': [0], 'task': [1, 232, 0, 0]}\n",
      "Executing action 2/2: {'agent_index': [0], 'task': [6, 232, 0, 0]}\n",
      "Executing action 1/2: {'agent_index': [0], 'task': [1, 232, 0, 0]}\n",
      "Executing action 2/2: {'agent_index': [0], 'task': [6, 232, 0, 0]}\n",
      "Executing action 1/2: {'agent_index': [0], 'task': [1, 232, 0, 0]}\n",
      "Executing action 2/2: {'agent_index': [0], 'task': [6, 232, 0, 0]}\n",
      "Executing action 1/2: {'agent_index': [0], 'task': [1, 232, 0, 0]}\n",
      "Executing action 2/2: {'agent_index': [0], 'task': [6, 232, 0, 0]}\n",
      "Executing action 1/2: {'agent_index': [0], 'task': [1, 232, 0, 0]}\n",
      "Executing action 2/2: {'agent_index': [0], 'task': [6, 232, 0, 0]}\n",
      "Executing action 1/2: {'agent_index': [0], 'task': [1, 232, 0, 0]}\n",
      "Executing action 2/2: {'agent_index': [0], 'task': [6, 232, 0, 0]}\n",
      "Executing action 1/2: {'agent_index': [0], 'task': [1, 232, 0, 0]}\n",
      "Executing action 2/2: {'agent_index': [0], 'task': [6, 232, 0, 0]}\n",
      "Executing action 1/2: {'agent_index': [0], 'task': [1, 232, 0, 0]}\n",
      "Executing action 2/2: {'agent_index': [0], 'task': [6, 232, 0, 0]}\n",
      "Executing action 1/2: {'agent_index': [0], 'task': [1, 232, 0, 0]}\n",
      "Executing action 2/2: {'agent_index': [0], 'task': [6, 232, 0, 0]}\n",
      "Executing action 1/2: {'agent_index': [0], 'task': [1, 232, 0, 0]}\n",
      "Executing action 2/2: {'agent_index': [0], 'task': [6, 232, 0, 0]}\n",
      "Executing action 1/2: {'agent_index': [0], 'task': [1, 232, 0, 0]}\n",
      "Executing action 2/2: {'agent_index': [0], 'task': [6, 232, 0, 0]}\n",
      "Executing action 1/2: {'agent_index': [0], 'task': [1, 232, 0, 0]}\n",
      "Executing action 2/2: {'agent_index': [0], 'task': [6, 232, 0, 0]}\n",
      "Executing action 1/2: {'agent_index': [0], 'task': [1, 232, 0, 0]}\n",
      "Executing action 2/2: {'agent_index': [0], 'task': [6, 232, 0, 0]}\n",
      "Executing action 1/2: {'agent_index': [0], 'task': [1, 232, 0, 0]}\n",
      "Executing action 2/2: {'agent_index': [0], 'task': [6, 232, 0, 0]}\n",
      "Executing action 1/2: {'agent_index': [0], 'task': [1, 232, 0, 0]}\n",
      "Executing action 2/2: {'agent_index': [0], 'task': [6, 232, 0, 0]}\n",
      "Executing action 1/2: {'agent_index': [0], 'task': [1, 232, 0, 0]}\n",
      "Executing action 2/2: {'agent_index': [0], 'task': [6, 232, 0, 0]}\n"
     ]
    },
    {
     "data": {
      "text/html": [
       "\n",
       "    <style>\n",
       "        .wandb-row {\n",
       "            display: flex;\n",
       "            flex-direction: row;\n",
       "            flex-wrap: wrap;\n",
       "            justify-content: flex-start;\n",
       "            width: 100%;\n",
       "        }\n",
       "        .wandb-col {\n",
       "            display: flex;\n",
       "            flex-direction: column;\n",
       "            flex-basis: 100%;\n",
       "            flex: 1;\n",
       "            padding: 10px;\n",
       "        }\n",
       "    </style>\n",
       "<div class=\"wandb-row\"><div class=\"wandb-col\"><h3>Run history:</h3><br/><table class=\"wandb\"><tr><td>achieved_subgoals</td><td>▁</td></tr><tr><td>goals_achieved</td><td>▁</td></tr><tr><td>success_rate</td><td>▁</td></tr><tr><td>total_actions</td><td>▁</td></tr><tr><td>total_goals</td><td>▁</td></tr></table><br/></div><div class=\"wandb-col\"><h3>Run summary:</h3><br/><table class=\"wandb\"><tr><td>achieved_subgoals</td><td>1</td></tr><tr><td>execution_success</td><td>False</td></tr><tr><td>goals_achieved</td><td>0</td></tr><tr><td>success_rate</td><td>0</td></tr><tr><td>total_actions</td><td>2</td></tr><tr><td>total_goals</td><td>1</td></tr></table><br/></div></div>"
      ],
      "text/plain": [
       "<IPython.core.display.HTML object>"
      ]
     },
     "metadata": {},
     "output_type": "display_data"
    },
    {
     "data": {
      "text/html": [
       " View run <strong style=\"color:#cdcd00\">main-execution</strong> at: <a href='https://wandb.ai/sijiehan-university-of-toronto/oracle-planning/runs/5povqnj4' target=\"_blank\">https://wandb.ai/sijiehan-university-of-toronto/oracle-planning/runs/5povqnj4</a><br/> View project at: <a href='https://wandb.ai/sijiehan-university-of-toronto/oracle-planning' target=\"_blank\">https://wandb.ai/sijiehan-university-of-toronto/oracle-planning</a><br/>Synced 5 W&B file(s), 0 media file(s), 2 artifact file(s) and 0 other file(s)"
      ],
      "text/plain": [
       "<IPython.core.display.HTML object>"
      ]
     },
     "metadata": {},
     "output_type": "display_data"
    },
    {
     "data": {
      "text/html": [
       "Find logs at: <code>.\\wandb\\run-20241201_151733-5povqnj4\\logs</code>"
      ],
      "text/plain": [
       "<IPython.core.display.HTML object>"
      ]
     },
     "metadata": {},
     "output_type": "display_data"
    }
   ],
   "source": [
    "oracle = Oracle(max_episode_length=100, env_name=\"WatchAndHelp1\")\n",
    "goal_specification = {('milk', 'on', 'table'): 1,}\n",
    "\n",
    "# Optional: Initialize wandb\n",
    "wandb.init(project=\"oracle-planning\", name=\"main-execution\")\n",
    "\n",
    "# Execute task and log metrics\n",
    "metrics = oracle.execute_task(goal_specification)\n",
    "wandb.log(metrics)\n",
    "wandb.finish()\n"
   ]
  },
  {
   "cell_type": "markdown",
   "metadata": {},
   "source": [
    "## 3. WatchAndHelp Algorithm"
   ]
  },
  {
   "cell_type": "code",
   "execution_count": 6,
   "metadata": {},
   "outputs": [
    {
     "data": {
      "text/html": [
       "Tracking run with wandb version 0.18.6"
      ],
      "text/plain": [
       "<IPython.core.display.HTML object>"
      ]
     },
     "metadata": {},
     "output_type": "display_data"
    },
    {
     "data": {
      "text/html": [
       "Run data is saved locally in <code>e:\\environment\\wandb\\run-20241201_111545-gfo4v1ov</code>"
      ],
      "text/plain": [
       "<IPython.core.display.HTML object>"
      ]
     },
     "metadata": {},
     "output_type": "display_data"
    },
    {
     "data": {
      "text/html": [
       "Syncing run <strong><a href='https://wandb.ai/sijiehan-university-of-toronto/mcts-planning/runs/gfo4v1ov' target=\"_blank\">main-execution</a></strong> to <a href='https://wandb.ai/sijiehan-university-of-toronto/mcts-planning' target=\"_blank\">Weights & Biases</a> (<a href='https://wandb.me/developer-guide' target=\"_blank\">docs</a>)<br/>"
      ],
      "text/plain": [
       "<IPython.core.display.HTML object>"
      ]
     },
     "metadata": {},
     "output_type": "display_data"
    },
    {
     "data": {
      "text/html": [
       " View project at <a href='https://wandb.ai/sijiehan-university-of-toronto/mcts-planning' target=\"_blank\">https://wandb.ai/sijiehan-university-of-toronto/mcts-planning</a>"
      ],
      "text/plain": [
       "<IPython.core.display.HTML object>"
      ]
     },
     "metadata": {},
     "output_type": "display_data"
    },
    {
     "data": {
      "text/html": [
       " View run at <a href='https://wandb.ai/sijiehan-university-of-toronto/mcts-planning/runs/gfo4v1ov' target=\"_blank\">https://wandb.ai/sijiehan-university-of-toronto/mcts-planning/runs/gfo4v1ov</a>"
      ],
      "text/plain": [
       "<IPython.core.display.HTML object>"
      ]
     },
     "metadata": {},
     "output_type": "display_data"
    },
    {
     "data": {
      "text/html": [
       "Finishing last run (ID:gfo4v1ov) before initializing another..."
      ],
      "text/plain": [
       "<IPython.core.display.HTML object>"
      ]
     },
     "metadata": {},
     "output_type": "display_data"
    },
    {
     "data": {
      "text/html": [
       " View run <strong style=\"color:#cdcd00\">main-execution</strong> at: <a href='https://wandb.ai/sijiehan-university-of-toronto/mcts-planning/runs/gfo4v1ov' target=\"_blank\">https://wandb.ai/sijiehan-university-of-toronto/mcts-planning/runs/gfo4v1ov</a><br/> View project at: <a href='https://wandb.ai/sijiehan-university-of-toronto/mcts-planning' target=\"_blank\">https://wandb.ai/sijiehan-university-of-toronto/mcts-planning</a><br/>Synced 5 W&B file(s), 0 media file(s), 0 artifact file(s) and 0 other file(s)"
      ],
      "text/plain": [
       "<IPython.core.display.HTML object>"
      ]
     },
     "metadata": {},
     "output_type": "display_data"
    },
    {
     "data": {
      "text/html": [
       "Find logs at: <code>.\\wandb\\run-20241201_111545-gfo4v1ov\\logs</code>"
      ],
      "text/plain": [
       "<IPython.core.display.HTML object>"
      ]
     },
     "metadata": {},
     "output_type": "display_data"
    },
    {
     "data": {
      "text/html": [
       "Successfully finished last run (ID:gfo4v1ov). Initializing new run:<br/>"
      ],
      "text/plain": [
       "<IPython.core.display.HTML object>"
      ]
     },
     "metadata": {},
     "output_type": "display_data"
    },
    {
     "data": {
      "text/html": [
       "Tracking run with wandb version 0.18.6"
      ],
      "text/plain": [
       "<IPython.core.display.HTML object>"
      ]
     },
     "metadata": {},
     "output_type": "display_data"
    },
    {
     "data": {
      "text/html": [
       "Run data is saved locally in <code>e:\\environment\\wandb\\run-20241201_111546-vae3r0z5</code>"
      ],
      "text/plain": [
       "<IPython.core.display.HTML object>"
      ]
     },
     "metadata": {},
     "output_type": "display_data"
    },
    {
     "data": {
      "text/html": [
       "Syncing run <strong><a href='https://wandb.ai/sijiehan-university-of-toronto/mcts-planning/runs/vae3r0z5' target=\"_blank\">worldly-morning-177</a></strong> to <a href='https://wandb.ai/sijiehan-university-of-toronto/mcts-planning' target=\"_blank\">Weights & Biases</a> (<a href='https://wandb.me/developer-guide' target=\"_blank\">docs</a>)<br/>"
      ],
      "text/plain": [
       "<IPython.core.display.HTML object>"
      ]
     },
     "metadata": {},
     "output_type": "display_data"
    },
    {
     "data": {
      "text/html": [
       " View project at <a href='https://wandb.ai/sijiehan-university-of-toronto/mcts-planning' target=\"_blank\">https://wandb.ai/sijiehan-university-of-toronto/mcts-planning</a>"
      ],
      "text/plain": [
       "<IPython.core.display.HTML object>"
      ]
     },
     "metadata": {},
     "output_type": "display_data"
    },
    {
     "data": {
      "text/html": [
       " View run at <a href='https://wandb.ai/sijiehan-university-of-toronto/mcts-planning/runs/vae3r0z5' target=\"_blank\">https://wandb.ai/sijiehan-university-of-toronto/mcts-planning/runs/vae3r0z5</a>"
      ],
      "text/plain": [
       "<IPython.core.display.HTML object>"
      ]
     },
     "metadata": {},
     "output_type": "display_data"
    },
    {
     "name": "stdout",
     "output_type": "stream",
     "text": [
      "Checking subgoals...\n",
      "subgoals: [['putIn_232.0_235.0', ('milk', 'inside', 'microwave'), 'inside_232.0_235.0']]\n",
      "satisfied: {}\n",
      "unsatisfied: {('milk', 'inside', 'microwave'): 1}\n",
      "subgoals: [['putIn_232.0_235.0', ('milk', 'inside', 'microwave'), 'inside_232.0_235.0']]\n",
      "last_subgoal: None\n",
      "plan: ['agent_0 walk to object_232', 'agent_0 grab object_232', 'agent_0 walk to object_235', 'agent_0 open object_235', 'agent_0 putIn object_232 object_235']\n",
      "Planned actions: ['agent_0 walk to object_232', 'agent_0 grab object_232', 'agent_0 walk to object_235', 'agent_0 open object_235', 'agent_0 putIn object_232 object_235']\n",
      "Subgoals: ['putIn_232.0_235.0']\n",
      "{'agent_index': [0], 'task': [1, 232, 0, 0]}\n",
      "Action 1/5: [1, 232, 0, 0]\n",
      "{'agent_index': [0], 'task': [6, 232, 0, 0]}\n",
      "Action 2/5: [6, 232, 0, 0]\n",
      "{'agent_index': [0], 'task': [1, 235, 0, 0]}\n",
      "Action 3/5: [1, 235, 0, 0]\n",
      "{'agent_index': [0], 'task': [9, 235, 0, 0]}\n",
      "Action 4/5: [9, 235, 0, 0]\n",
      "{'agent_index': [0], 'task': [7, 232, 235, 0]}\n",
      "Action 5/5: [7, 232, 235, 0]\n",
      "0 goals reached out of 1\n",
      "Success rate: 0.0\n"
     ]
    },
    {
     "data": {
      "text/html": [
       "\n",
       "    <style>\n",
       "        .wandb-row {\n",
       "            display: flex;\n",
       "            flex-direction: row;\n",
       "            flex-wrap: wrap;\n",
       "            justify-content: flex-start;\n",
       "            width: 100%;\n",
       "        }\n",
       "        .wandb-col {\n",
       "            display: flex;\n",
       "            flex-direction: column;\n",
       "            flex-basis: 100%;\n",
       "            flex: 1;\n",
       "            padding: 10px;\n",
       "        }\n",
       "    </style>\n",
       "<div class=\"wandb-row\"><div class=\"wandb-col\"><h3>Run history:</h3><br/><table class=\"wandb\"><tr><td>achieved_subgoals</td><td>▁</td></tr><tr><td>success_goals</td><td>▁</td></tr><tr><td>success_rate</td><td>▁</td></tr><tr><td>total_actions</td><td>▁</td></tr><tr><td>total_goals</td><td>▁</td></tr></table><br/></div><div class=\"wandb-col\"><h3>Run summary:</h3><br/><table class=\"wandb\"><tr><td>achieved_subgoals</td><td>1</td></tr><tr><td>success_goals</td><td>0</td></tr><tr><td>success_rate</td><td>0</td></tr><tr><td>total_actions</td><td>5</td></tr><tr><td>total_goals</td><td>1</td></tr></table><br/></div></div>"
      ],
      "text/plain": [
       "<IPython.core.display.HTML object>"
      ]
     },
     "metadata": {},
     "output_type": "display_data"
    },
    {
     "data": {
      "text/html": [
       " View run <strong style=\"color:#cdcd00\">worldly-morning-177</strong> at: <a href='https://wandb.ai/sijiehan-university-of-toronto/mcts-planning/runs/vae3r0z5' target=\"_blank\">https://wandb.ai/sijiehan-university-of-toronto/mcts-planning/runs/vae3r0z5</a><br/> View project at: <a href='https://wandb.ai/sijiehan-university-of-toronto/mcts-planning' target=\"_blank\">https://wandb.ai/sijiehan-university-of-toronto/mcts-planning</a><br/>Synced 5 W&B file(s), 0 media file(s), 0 artifact file(s) and 0 other file(s)"
      ],
      "text/plain": [
       "<IPython.core.display.HTML object>"
      ]
     },
     "metadata": {},
     "output_type": "display_data"
    },
    {
     "data": {
      "text/html": [
       "Find logs at: <code>.\\wandb\\run-20241201_111546-vae3r0z5\\logs</code>"
      ],
      "text/plain": [
       "<IPython.core.display.HTML object>"
      ]
     },
     "metadata": {},
     "output_type": "display_data"
    }
   ],
   "source": [
    " # Initialize wandb\n",
    "wandb.init(\n",
    "    project=\"mcts-planning\",\n",
    "    name=\"main-execution\",\n",
    "    config={\"environment\": \"WatchAndHelp1\"}\n",
    ")\n",
    "\n",
    "# Initialize MCTS\n",
    "mcts = MCTS(\n",
    "    agent_id=0,\n",
    "    max_episode_length=100,\n",
    "    num_simulation=1000,\n",
    "    max_rollout_step=5,\n",
    "    c_init=1.25,\n",
    "    c_base=19652,\n",
    "    env_name=\"WatchAndHelp1\",\n",
    ")\n",
    "\n",
    "# Define goals and run task\n",
    "goal_specification = {\n",
    "    ('milk', 'inside', 'microwave'): 1,\n",
    "}\n",
    "\n",
    "success_rate = mcts.run_mcts_task(goal_specification)\n",
    "\n",
    "wandb.finish()"
   ]
  }
 ],
 "metadata": {
  "kernelspec": {
   "display_name": "vh",
   "language": "python",
   "name": "python3"
  },
  "language_info": {
   "codemirror_mode": {
    "name": "ipython",
    "version": 3
   },
   "file_extension": ".py",
   "mimetype": "text/x-python",
   "name": "python",
   "nbconvert_exporter": "python",
   "pygments_lexer": "ipython3",
   "version": "3.10.15"
  }
 },
 "nbformat": 4,
 "nbformat_minor": 2
}
