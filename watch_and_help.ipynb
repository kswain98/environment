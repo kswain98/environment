{
 "cells": [
  {
   "cell_type": "markdown",
   "metadata": {},
   "source": [
    "# Demo for WatchAndHelp Experiment In VirtualEnv\n",
    "##### This is a demo of how to interact with decision making algorithm in WatchAndHelp Experiment In VirtualEnv.\n"
   ]
  },
  {
   "cell_type": "markdown",
   "metadata": {},
   "source": [
    "## Setup\n",
    "##### The first step is to start a communication with the simulator. Make sure before you run this notebook, that you have downloaded the correct version of the environment for your OS and your drivers and OS is updated to the latest version."
   ]
  },
  {
   "cell_type": "code",
   "execution_count": 1,
   "metadata": {},
   "outputs": [
    {
     "name": "stdout",
     "output_type": "stream",
     "text": [
      "Connected to server\n"
     ]
    },
    {
     "name": "stderr",
     "output_type": "stream",
     "text": [
      "e:\\conda\\envs\\vh\\lib\\site-packages\\tqdm\\auto.py:21: TqdmWarning: IProgress not found. Please update jupyter and ipywidgets. See https://ipywidgets.readthedocs.io/en/stable/user_install.html\n",
      "  from .autonotebook import tqdm as notebook_tqdm\n"
     ]
    }
   ],
   "source": [
    "from watch_and_help import *\n",
    "from client import *\n",
    "data = {\"environment\": \"WatchAndHelp1\"}\n",
    "make(data)"
   ]
  },
  {
   "cell_type": "markdown",
   "metadata": {},
   "source": [
    "## 1. Random Agent\n"
   ]
  },
  {
   "cell_type": "code",
   "execution_count": null,
   "metadata": {},
   "outputs": [],
   "source": [
    "## 1. Random Agent\n",
    "\n",
    "goal_spec = {\n",
    "    # Format: (subject, relation_type, target): count_needed\n",
    "    #('apple', 'on', 'table'): 1,\n",
    "    ('milk', 'on', 'table'): 1,\n",
    "}\n",
    "env_name = 'WatchAndHelp1'\n",
    "\n",
    "agent = Random_agent(agent_id=0, char_index=0, max_episode_length=100, num_simulation=1000, max_rollout_steps=5, c_init=1.25, c_base=19652, recursive=False, num_samples=1, num_processes=1, comm=None, logging=False, logging_graphs=False, seed=None, env_name=env_name)\n",
    "graph = agent.load_graph_json()\n",
    "filtered_graph = clean_graph(graph, goal_spec, None)\n",
    "#print(\"Filtered graph nodes:\", [node['name'] for node in filtered_graph])\n",
    "for goal_tuple in goal_spec.keys():\n",
    "    print(f\"Goal: {goal_tuple}\")\n",
    "    # Create a single-goal specification dictionary\n",
    "    single_goal_spec = {goal_tuple: goal_spec[goal_tuple]}\n",
    "    agent.run(single_goal_spec)\n"
   ]
  },
  {
   "cell_type": "markdown",
   "metadata": {},
   "source": [
    "## 2. Oracle Algorithm"
   ]
  },
  {
   "cell_type": "code",
   "execution_count": null,
   "metadata": {},
   "outputs": [
    {
     "data": {
      "text/html": [
       "Tracking run with wandb version 0.18.6"
      ],
      "text/plain": [
       "<IPython.core.display.HTML object>"
      ]
     },
     "metadata": {},
     "output_type": "display_data"
    },
    {
     "data": {
      "text/html": [
       "Run data is saved locally in <code>e:\\environment\\wandb\\run-20241203_121416-2p75vyx6</code>"
      ],
      "text/plain": [
       "<IPython.core.display.HTML object>"
      ]
     },
     "metadata": {},
     "output_type": "display_data"
    },
    {
     "data": {
      "text/html": [
       "Syncing run <strong><a href='https://wandb.ai/sijiehan-university-of-toronto/oracle-planning/runs/2p75vyx6' target=\"_blank\">main-execution</a></strong> to <a href='https://wandb.ai/sijiehan-university-of-toronto/oracle-planning' target=\"_blank\">Weights & Biases</a> (<a href='https://wandb.me/developer-guide' target=\"_blank\">docs</a>)<br/>"
      ],
      "text/plain": [
       "<IPython.core.display.HTML object>"
      ]
     },
     "metadata": {},
     "output_type": "display_data"
    },
    {
     "data": {
      "text/html": [
       " View project at <a href='https://wandb.ai/sijiehan-university-of-toronto/oracle-planning' target=\"_blank\">https://wandb.ai/sijiehan-university-of-toronto/oracle-planning</a>"
      ],
      "text/plain": [
       "<IPython.core.display.HTML object>"
      ]
     },
     "metadata": {},
     "output_type": "display_data"
    },
    {
     "data": {
      "text/html": [
       " View run at <a href='https://wandb.ai/sijiehan-university-of-toronto/oracle-planning/runs/2p75vyx6' target=\"_blank\">https://wandb.ai/sijiehan-university-of-toronto/oracle-planning/runs/2p75vyx6</a>"
      ],
      "text/plain": [
       "<IPython.core.display.HTML object>"
      ]
     },
     "metadata": {},
     "output_type": "display_data"
    },
    {
     "name": "stdout",
     "output_type": "stream",
     "text": [
      "\n",
      "Executing goal 1/1: ('milk', 'on', 'table')\n",
      "subgoal: grab_milk\n",
      "Executing action 1/2: {'agent_index': [0], 'task': [1, 231, 0, 0]}\n",
      "Executing action 2/2: {'agent_index': [0], 'task': [6, 231, 0, 0]}\n",
      "subgoal: grab_milk\n",
      "Executing action 1/2: {'agent_index': [0], 'task': [1, 231, 0, 0]}\n",
      "Executing action 2/2: {'agent_index': [0], 'task': [6, 231, 0, 0]}\n",
      "subgoal: put_milk_table\n",
      "Executing action 1/2: {'agent_index': [0], 'task': [1, 215, 0, 0]}\n",
      "Executing action 2/2: {'agent_index': [0], 'task': [8, 231, 215, 0]}\n",
      "subgoal: put_milk_table\n",
      "Executing action 1/2: {'agent_index': [0], 'task': [1, 215, 0, 0]}\n",
      "Executing action 2/2: {'agent_index': [0], 'task': [8, 231, 215, 0]}\n",
      "subgoal: grab_milk\n",
      "Executing action 1/2: {'agent_index': [0], 'task': [1, 231, 0, 0]}\n",
      "Executing action 2/2: {'agent_index': [0], 'task': [6, 231, 0, 0]}\n",
      "subgoal: grab_milk\n",
      "Executing action 1/2: {'agent_index': [0], 'task': [1, 231, 0, 0]}\n",
      "Executing action 2/2: {'agent_index': [0], 'task': [6, 231, 0, 0]}\n",
      "subgoal: put_milk_table\n",
      "Executing action 1/2: {'agent_index': [0], 'task': [1, 215, 0, 0]}\n",
      "Executing action 2/2: {'agent_index': [0], 'task': [8, 231, 215, 0]}\n",
      "subgoal: put_milk_table\n",
      "Executing action 1/2: {'agent_index': [0], 'task': [1, 215, 0, 0]}\n",
      "Executing action 2/2: {'agent_index': [0], 'task': [8, 231, 215, 0]}\n",
      "subgoal: grab_milk\n",
      "Executing action 1/2: {'agent_index': [0], 'task': [1, 231, 0, 0]}\n",
      "Executing action 2/2: {'agent_index': [0], 'task': [6, 231, 0, 0]}\n",
      "subgoal: grab_milk\n",
      "Executing action 1/2: {'agent_index': [0], 'task': [1, 231, 0, 0]}\n",
      "Executing action 2/2: {'agent_index': [0], 'task': [6, 231, 0, 0]}\n",
      "subgoal: put_milk_table\n",
      "Executing action 1/2: {'agent_index': [0], 'task': [1, 215, 0, 0]}\n",
      "Executing action 2/2: {'agent_index': [0], 'task': [8, 231, 215, 0]}\n",
      "subgoal: put_milk_table\n",
      "Executing action 1/2: {'agent_index': [0], 'task': [1, 215, 0, 0]}\n"
     ]
    }
   ],
   "source": [
    "oracle = Oracle(max_episode_length=100, env_name=\"WatchAndHelp1\")\n",
    "goal_specification = {('milk', 'on', 'table'): 1,}\n",
    "\n",
    "# Optional: Initialize wandb\n",
    "wandb.init(project=\"oracle-planning\", name=\"main-execution\")\n",
    "\n",
    "# Execute task and log metrics\n",
    "metrics = oracle.execute_task(goal_specification)\n",
    "wandb.log(metrics)\n",
    "wandb.finish()\n"
   ]
  },
  {
   "cell_type": "markdown",
   "metadata": {},
   "source": [
    "## 3. WatchAndHelp Algorithm"
   ]
  },
  {
   "cell_type": "code",
   "execution_count": 4,
   "metadata": {},
   "outputs": [
    {
     "data": {
      "text/html": [
       "Tracking run with wandb version 0.18.6"
      ],
      "text/plain": [
       "<IPython.core.display.HTML object>"
      ]
     },
     "metadata": {},
     "output_type": "display_data"
    },
    {
     "data": {
      "text/html": [
       "Run data is saved locally in <code>e:\\environment\\wandb\\run-20241203_122951-frzrnqvu</code>"
      ],
      "text/plain": [
       "<IPython.core.display.HTML object>"
      ]
     },
     "metadata": {},
     "output_type": "display_data"
    },
    {
     "data": {
      "text/html": [
       "Syncing run <strong><a href='https://wandb.ai/sijiehan-university-of-toronto/mcts-planning/runs/frzrnqvu' target=\"_blank\">main-execution</a></strong> to <a href='https://wandb.ai/sijiehan-university-of-toronto/mcts-planning' target=\"_blank\">Weights & Biases</a> (<a href='https://wandb.me/developer-guide' target=\"_blank\">docs</a>)<br/>"
      ],
      "text/plain": [
       "<IPython.core.display.HTML object>"
      ]
     },
     "metadata": {},
     "output_type": "display_data"
    },
    {
     "data": {
      "text/html": [
       " View project at <a href='https://wandb.ai/sijiehan-university-of-toronto/mcts-planning' target=\"_blank\">https://wandb.ai/sijiehan-university-of-toronto/mcts-planning</a>"
      ],
      "text/plain": [
       "<IPython.core.display.HTML object>"
      ]
     },
     "metadata": {},
     "output_type": "display_data"
    },
    {
     "data": {
      "text/html": [
       " View run at <a href='https://wandb.ai/sijiehan-university-of-toronto/mcts-planning/runs/frzrnqvu' target=\"_blank\">https://wandb.ai/sijiehan-university-of-toronto/mcts-planning/runs/frzrnqvu</a>"
      ],
      "text/plain": [
       "<IPython.core.display.HTML object>"
      ]
     },
     "metadata": {},
     "output_type": "display_data"
    },
    {
     "data": {
      "text/html": [
       "Finishing last run (ID:frzrnqvu) before initializing another..."
      ],
      "text/plain": [
       "<IPython.core.display.HTML object>"
      ]
     },
     "metadata": {},
     "output_type": "display_data"
    },
    {
     "data": {
      "text/html": [
       " View run <strong style=\"color:#cdcd00\">main-execution</strong> at: <a href='https://wandb.ai/sijiehan-university-of-toronto/mcts-planning/runs/frzrnqvu' target=\"_blank\">https://wandb.ai/sijiehan-university-of-toronto/mcts-planning/runs/frzrnqvu</a><br/> View project at: <a href='https://wandb.ai/sijiehan-university-of-toronto/mcts-planning' target=\"_blank\">https://wandb.ai/sijiehan-university-of-toronto/mcts-planning</a><br/>Synced 5 W&B file(s), 0 media file(s), 0 artifact file(s) and 0 other file(s)"
      ],
      "text/plain": [
       "<IPython.core.display.HTML object>"
      ]
     },
     "metadata": {},
     "output_type": "display_data"
    },
    {
     "data": {
      "text/html": [
       "Find logs at: <code>.\\wandb\\run-20241203_122951-frzrnqvu\\logs</code>"
      ],
      "text/plain": [
       "<IPython.core.display.HTML object>"
      ]
     },
     "metadata": {},
     "output_type": "display_data"
    },
    {
     "data": {
      "text/html": [
       "Successfully finished last run (ID:frzrnqvu). Initializing new run:<br/>"
      ],
      "text/plain": [
       "<IPython.core.display.HTML object>"
      ]
     },
     "metadata": {},
     "output_type": "display_data"
    },
    {
     "data": {
      "text/html": [
       "Tracking run with wandb version 0.18.6"
      ],
      "text/plain": [
       "<IPython.core.display.HTML object>"
      ]
     },
     "metadata": {},
     "output_type": "display_data"
    },
    {
     "data": {
      "text/html": [
       "Run data is saved locally in <code>e:\\environment\\wandb\\run-20241203_122952-71daswtl</code>"
      ],
      "text/plain": [
       "<IPython.core.display.HTML object>"
      ]
     },
     "metadata": {},
     "output_type": "display_data"
    },
    {
     "data": {
      "text/html": [
       "Syncing run <strong><a href='https://wandb.ai/sijiehan-university-of-toronto/mcts-planning/runs/71daswtl' target=\"_blank\">trim-monkey-251</a></strong> to <a href='https://wandb.ai/sijiehan-university-of-toronto/mcts-planning' target=\"_blank\">Weights & Biases</a> (<a href='https://wandb.me/developer-guide' target=\"_blank\">docs</a>)<br/>"
      ],
      "text/plain": [
       "<IPython.core.display.HTML object>"
      ]
     },
     "metadata": {},
     "output_type": "display_data"
    },
    {
     "data": {
      "text/html": [
       " View project at <a href='https://wandb.ai/sijiehan-university-of-toronto/mcts-planning' target=\"_blank\">https://wandb.ai/sijiehan-university-of-toronto/mcts-planning</a>"
      ],
      "text/plain": [
       "<IPython.core.display.HTML object>"
      ]
     },
     "metadata": {},
     "output_type": "display_data"
    },
    {
     "data": {
      "text/html": [
       " View run at <a href='https://wandb.ai/sijiehan-university-of-toronto/mcts-planning/runs/71daswtl' target=\"_blank\">https://wandb.ai/sijiehan-university-of-toronto/mcts-planning/runs/71daswtl</a>"
      ],
      "text/plain": [
       "<IPython.core.display.HTML object>"
      ]
     },
     "metadata": {},
     "output_type": "display_data"
    },
    {
     "name": "stdout",
     "output_type": "stream",
     "text": [
      "Checking subgoals...\n",
      "subgoals: [['put_231.0_215.0', ('milk', 'on', 'table'), 'on_231.0_215.0']]\n",
      "satisfied: {}\n",
      "unsatisfied: {('milk', 'on', 'table'): 1, ('apple', 'on', 'table2'): 1}\n",
      "subgoals: [['put_231.0_215.0', ('milk', 'on', 'table'), 'on_231.0_215.0']]\n",
      "last_subgoal: None\n",
      "plan: ['agent_0 walk to object_231', 'agent_0 grab object_231', 'agent_0 walk to object_215', 'agent_0 put object_231 object_215']\n",
      "Planned actions: ['agent_0 walk to object_231', 'agent_0 grab object_231', 'agent_0 walk to object_215', 'agent_0 put object_231 object_215']\n",
      "Subgoals: ['put_231.0_215.0']\n",
      "{'agent_index': [0], 'task': [1, 231, 0, 0]}\n",
      "Action 1/4: [1, 231, 0, 0]\n",
      "{'agent_index': [0], 'task': [6, 231, 0, 0]}\n",
      "Action 2/4: [6, 231, 0, 0]\n",
      "{'agent_index': [0], 'task': [1, 215, 0, 0]}\n",
      "Action 3/4: [1, 215, 0, 0]\n",
      "{'agent_index': [0], 'task': [8, 231, 215, 0]}\n",
      "Action 4/4: [8, 231, 215, 0]\n",
      "0 goals reached out of 2\n",
      "Success rate: 0.0\n"
     ]
    },
    {
     "data": {
      "text/html": [
       "\n",
       "    <style>\n",
       "        .wandb-row {\n",
       "            display: flex;\n",
       "            flex-direction: row;\n",
       "            flex-wrap: wrap;\n",
       "            justify-content: flex-start;\n",
       "            width: 100%;\n",
       "        }\n",
       "        .wandb-col {\n",
       "            display: flex;\n",
       "            flex-direction: column;\n",
       "            flex-basis: 100%;\n",
       "            flex: 1;\n",
       "            padding: 10px;\n",
       "        }\n",
       "    </style>\n",
       "<div class=\"wandb-row\"><div class=\"wandb-col\"><h3>Run history:</h3><br/><table class=\"wandb\"><tr><td>achieved_subgoals</td><td>▁</td></tr><tr><td>success_goals</td><td>▁</td></tr><tr><td>success_rate</td><td>▁</td></tr><tr><td>total_actions</td><td>▁</td></tr><tr><td>total_goals</td><td>▁</td></tr></table><br/></div><div class=\"wandb-col\"><h3>Run summary:</h3><br/><table class=\"wandb\"><tr><td>achieved_subgoals</td><td>1</td></tr><tr><td>success_goals</td><td>0</td></tr><tr><td>success_rate</td><td>0</td></tr><tr><td>total_actions</td><td>4</td></tr><tr><td>total_goals</td><td>2</td></tr></table><br/></div></div>"
      ],
      "text/plain": [
       "<IPython.core.display.HTML object>"
      ]
     },
     "metadata": {},
     "output_type": "display_data"
    },
    {
     "data": {
      "text/html": [
       " View run <strong style=\"color:#cdcd00\">trim-monkey-251</strong> at: <a href='https://wandb.ai/sijiehan-university-of-toronto/mcts-planning/runs/71daswtl' target=\"_blank\">https://wandb.ai/sijiehan-university-of-toronto/mcts-planning/runs/71daswtl</a><br/> View project at: <a href='https://wandb.ai/sijiehan-university-of-toronto/mcts-planning' target=\"_blank\">https://wandb.ai/sijiehan-university-of-toronto/mcts-planning</a><br/>Synced 5 W&B file(s), 0 media file(s), 0 artifact file(s) and 0 other file(s)"
      ],
      "text/plain": [
       "<IPython.core.display.HTML object>"
      ]
     },
     "metadata": {},
     "output_type": "display_data"
    },
    {
     "data": {
      "text/html": [
       "Find logs at: <code>.\\wandb\\run-20241203_122952-71daswtl\\logs</code>"
      ],
      "text/plain": [
       "<IPython.core.display.HTML object>"
      ]
     },
     "metadata": {},
     "output_type": "display_data"
    }
   ],
   "source": [
    " # Initialize wandb\n",
    "wandb.init(\n",
    "    project=\"mcts-planning\",\n",
    "    name=\"main-execution\",\n",
    "    config={\"environment\": \"WatchAndHelp1\"}\n",
    ")\n",
    "\n",
    "# Initialize MCTS\n",
    "mcts = MCTS(\n",
    "    agent_id=0,\n",
    "    max_episode_length=100,\n",
    "    num_simulation=1000,\n",
    "    max_rollout_step=5,\n",
    "    c_init=1.25,\n",
    "    c_base=19652,\n",
    "    env_name=\"WatchAndHelp1\",\n",
    ")\n",
    "\n",
    "# Define goals and run task\n",
    "goal_specification = {\n",
    "    ('milk', 'on', 'table'): 1,\n",
    "    ('apple', 'on', 'table2'): 1,\n",
    "}\n",
    "\n",
    "success_rate = mcts.run_mcts_task(goal_specification)\n",
    "\n",
    "wandb.finish()"
   ]
  }
 ],
 "metadata": {
  "kernelspec": {
   "display_name": "vh",
   "language": "python",
   "name": "python3"
  },
  "language_info": {
   "codemirror_mode": {
    "name": "ipython",
    "version": 3
   },
   "file_extension": ".py",
   "mimetype": "text/x-python",
   "name": "python",
   "nbconvert_exporter": "python",
   "pygments_lexer": "ipython3",
   "version": "3.10.15"
  }
 },
 "nbformat": 4,
 "nbformat_minor": 2
}
