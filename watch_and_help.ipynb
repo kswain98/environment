{
 "cells": [
  {
   "cell_type": "code",
   "execution_count": 7,
   "metadata": {},
   "outputs": [],
   "source": [
    "from watch_and_help import *\n",
    "from client import *\n",
    "data = {\"environment\": \"WatchAndHelp1\"}\n",
    "make(data)"
   ]
  },
  {
   "cell_type": "markdown",
   "metadata": {},
   "source": [
    "# Demo for WatchAndHelp Experiment In VirtualEnv\n",
    "##### This is a demo of how to interact with decision making algorithm in WatchAndHelp Experiment In VirtualEnv.\n"
   ]
  },
  {
   "cell_type": "markdown",
   "metadata": {},
   "source": [
    "## Setup\n",
    "##### The first step is to start a communication with the simulator. Make sure before you run this notebook, that you have downloaded the correct version of the environment for your OS and your drivers and OS is updated to the latest version."
   ]
  },
  {
   "cell_type": "markdown",
   "metadata": {},
   "source": [
    "## 1. Random Agent\n"
   ]
  },
  {
   "cell_type": "code",
   "execution_count": null,
   "metadata": {},
   "outputs": [
    {
     "ename": "NameError",
     "evalue": "name 'client' is not defined",
     "output_type": "error",
     "traceback": [
      "\u001b[1;31m---------------------------------------------------------------------------\u001b[0m",
      "\u001b[1;31mNameError\u001b[0m                                 Traceback (most recent call last)",
      "Cell \u001b[1;32mIn[8], line 2\u001b[0m\n\u001b[0;32m      1\u001b[0m data \u001b[38;5;241m=\u001b[39m {\u001b[38;5;124m\"\u001b[39m\u001b[38;5;124menvironment\u001b[39m\u001b[38;5;124m\"\u001b[39m: \u001b[38;5;124m\"\u001b[39m\u001b[38;5;124mWatchAndHelp1\u001b[39m\u001b[38;5;124m\"\u001b[39m}\n\u001b[1;32m----> 2\u001b[0m \u001b[43mclient\u001b[49m\u001b[38;5;241m.\u001b[39mmake(data)\n\u001b[0;32m      4\u001b[0m goal_spec \u001b[38;5;241m=\u001b[39m {\n\u001b[0;32m      5\u001b[0m     \u001b[38;5;66;03m# Format: (subject, relation_type, target): count_needed\u001b[39;00m\n\u001b[0;32m      6\u001b[0m     (\u001b[38;5;124m'\u001b[39m\u001b[38;5;124mapple\u001b[39m\u001b[38;5;124m'\u001b[39m, \u001b[38;5;124m'\u001b[39m\u001b[38;5;124mon\u001b[39m\u001b[38;5;124m'\u001b[39m, \u001b[38;5;124m'\u001b[39m\u001b[38;5;124mtable\u001b[39m\u001b[38;5;124m'\u001b[39m): \u001b[38;5;241m1\u001b[39m,\n\u001b[0;32m      7\u001b[0m     (\u001b[38;5;124m'\u001b[39m\u001b[38;5;124mmicrowave\u001b[39m\u001b[38;5;124m'\u001b[39m, \u001b[38;5;124m'\u001b[39m\u001b[38;5;124mstate\u001b[39m\u001b[38;5;124m'\u001b[39m, \u001b[38;5;124m'\u001b[39m\u001b[38;5;124mon\u001b[39m\u001b[38;5;124m'\u001b[39m): \u001b[38;5;241m1\u001b[39m\n\u001b[0;32m      8\u001b[0m }\n\u001b[0;32m      9\u001b[0m env_name \u001b[38;5;241m=\u001b[39m \u001b[38;5;124m'\u001b[39m\u001b[38;5;124mWatchAndHelp1\u001b[39m\u001b[38;5;124m'\u001b[39m\n",
      "\u001b[1;31mNameError\u001b[0m: name 'client' is not defined"
     ]
    }
   ],
   "source": [
    "## 1. Random Agent\n",
    "\n",
    "goal_spec = {\n",
    "    # Format: (subject, relation_type, target): count_needed\n",
    "    ('apple', 'on', 'table'): 1,\n",
    "    ('microwave', 'state', 'on'): 1\n",
    "}\n",
    "env_name = 'WatchAndHelp1'\n",
    "\n",
    "agent = Random_agent(agent_id=0, char_index=0, max_episode_length=100, num_simulation=1000, max_rollout_steps=5, c_init=1.25, c_base=19652, recursive=False, num_samples=1, num_processes=1, comm=None, logging=False, logging_graphs=False, seed=None, env_name=env_name)\n",
    "graph = agent.load_graph_json()\n",
    "filtered_graph = clean_graph(graph, goal_spec, None)\n",
    "print(\"Filtered graph nodes:\", [node['name'] for node in filtered_graph])\n",
    "for goal_tuple in goal_spec.keys():\n",
    "    print(f\"Goal: {goal_tuple}\")\n",
    "    # Create a single-goal specification dictionary\n",
    "    single_goal_spec = {goal_tuple: goal_spec[goal_tuple]}\n",
    "    agent.run(single_goal_spec)\n"
   ]
  },
  {
   "cell_type": "markdown",
   "metadata": {},
   "source": [
    "## 2. Oracle Algorithm"
   ]
  },
  {
   "cell_type": "code",
   "execution_count": null,
   "metadata": {},
   "outputs": [],
   "source": [
    "oracle = Oracle(max_episode_length=100, env_name=\"WatchAndHelp1\")\n",
    "goal_specification = {('apple', 'on', 'table'): 1}\n",
    "\n",
    "# Optional: Initialize wandb\n",
    "wandb.init(project=\"oracle-planning\", name=\"main-execution\")\n",
    "\n",
    "# Execute task and log metrics\n",
    "metrics = oracle.execute_task(goal_specification)\n",
    "wandb.log(metrics)\n",
    "wandb.finish()\n"
   ]
  }
 ],
 "metadata": {
  "kernelspec": {
   "display_name": "vh",
   "language": "python",
   "name": "python3"
  },
  "language_info": {
   "codemirror_mode": {
    "name": "ipython",
    "version": 3
   },
   "file_extension": ".py",
   "mimetype": "text/x-python",
   "name": "python",
   "nbconvert_exporter": "python",
   "pygments_lexer": "ipython3",
   "version": "3.10.15"
  }
 },
 "nbformat": 4,
 "nbformat_minor": 2
}
